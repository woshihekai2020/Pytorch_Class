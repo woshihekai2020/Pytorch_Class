{
 "cells": [
  {
   "cell_type": "markdown",
   "metadata": {},
   "source": [
    "# 对tensor操作"
   ]
  },
  {
   "cell_type": "code",
   "execution_count": 1,
   "metadata": {
    "collapsed": true
   },
   "outputs": [],
   "source": [
    "import torch"
   ]
  },
  {
   "cell_type": "markdown",
   "metadata": {},
   "source": [
    "tensor操作中使用data进行运算对原有的反向求导没有作用"
   ]
  },
  {
   "cell_type": "code",
   "execution_count": 2,
   "metadata": {
    "collapsed": false
   },
   "outputs": [
    {
     "name": "stdout",
     "output_type": "stream",
     "text": [
      "tensor([1.])\n",
      "False\n"
     ]
    }
   ],
   "source": [
    "x = torch.ones(1,requires_grad=True)\n",
    "print(x.data)\n",
    "print(x.data.requires_grad)"
   ]
  },
  {
   "cell_type": "code",
   "execution_count": 3,
   "metadata": {
    "collapsed": false
   },
   "outputs": [
    {
     "name": "stdout",
     "output_type": "stream",
     "text": [
      "tensor([100.], requires_grad=True)\n"
     ]
    }
   ],
   "source": [
    "y = 2*x\n",
    "x.data *= 100\n",
    "print(x)"
   ]
  },
  {
   "cell_type": "code",
   "execution_count": 4,
   "metadata": {
    "collapsed": false
   },
   "outputs": [
    {
     "name": "stdout",
     "output_type": "stream",
     "text": [
      "tensor([2.])\n"
     ]
    },
    {
     "name": "stderr",
     "output_type": "stream",
     "text": [
      "F:\\Anaconda3\\envs\\pytorch\\lib\\site-packages\\torch\\autograd\\__init__.py:149: UserWarning: CUDA initialization: The NVIDIA driver on your system is too old (found version 9020). Please update your GPU driver by downloading and installing a new version from the URL: http://www.nvidia.com/Download/index.aspx Alternatively, go to: https://pytorch.org to install a PyTorch version that has been compiled with your version of the CUDA driver. (Triggered internally at  ..\\c10\\cuda\\CUDAFunctions.cpp:115.)\n",
      "  allow_unreachable=True, accumulate_grad=True)  # allow_unreachable flag\n"
     ]
    }
   ],
   "source": [
    "y.backward()\n",
    "print(x.grad)"
   ]
  },
  {
   "cell_type": "markdown",
   "metadata": {},
   "source": [
    "# 示例1：线性回归"
   ]
  },
  {
   "cell_type": "code",
   "execution_count": 1,
   "metadata": {
    "collapsed": true
   },
   "outputs": [],
   "source": [
    "import torch\n",
    "import numpy as np"
   ]
  },
  {
   "cell_type": "markdown",
   "metadata": {},
   "source": [
    "## 制作线性回归数据集"
   ]
  },
  {
   "cell_type": "code",
   "execution_count": 2,
   "metadata": {
    "collapsed": false
   },
   "outputs": [
    {
     "name": "stdout",
     "output_type": "stream",
     "text": [
      "torch.Size([1000, 2])\n"
     ]
    },
    {
     "ename": "NameError",
     "evalue": "name 'label' is not defined",
     "output_type": "error",
     "traceback": [
      "\u001b[1;31m---------------------------------------------------------------------------\u001b[0m",
      "\u001b[1;31mNameError\u001b[0m                                 Traceback (most recent call last)",
      "\u001b[1;32m<ipython-input-2-b2a8867e7ccc>\u001b[0m in \u001b[0;36m<module>\u001b[1;34m\u001b[0m\n\u001b[0;32m      8\u001b[0m \u001b[0mlabels\u001b[0m \u001b[1;33m+=\u001b[0m \u001b[0mtorch\u001b[0m\u001b[1;33m.\u001b[0m\u001b[0mfrom_numpy\u001b[0m\u001b[1;33m(\u001b[0m\u001b[0mnp\u001b[0m\u001b[1;33m.\u001b[0m\u001b[0mrandom\u001b[0m\u001b[1;33m.\u001b[0m\u001b[0mnormal\u001b[0m\u001b[1;33m(\u001b[0m\u001b[1;36m0\u001b[0m\u001b[1;33m,\u001b[0m\u001b[1;36m0.1\u001b[0m\u001b[1;33m,\u001b[0m\u001b[1;33m(\u001b[0m\u001b[0mexamples_num\u001b[0m\u001b[1;33m,\u001b[0m\u001b[1;36m1\u001b[0m\u001b[1;33m)\u001b[0m\u001b[1;33m)\u001b[0m\u001b[1;33m)\u001b[0m\u001b[1;33m\u001b[0m\u001b[1;33m\u001b[0m\u001b[0m\n\u001b[0;32m      9\u001b[0m \u001b[0mprint\u001b[0m\u001b[1;33m(\u001b[0m\u001b[0mx\u001b[0m\u001b[1;33m.\u001b[0m\u001b[0msize\u001b[0m\u001b[1;33m(\u001b[0m\u001b[1;33m)\u001b[0m\u001b[1;33m)\u001b[0m\u001b[1;33m\u001b[0m\u001b[1;33m\u001b[0m\u001b[0m\n\u001b[1;32m---> 10\u001b[1;33m \u001b[0mprint\u001b[0m\u001b[1;33m(\u001b[0m\u001b[0mlabel\u001b[0m\u001b[1;33m.\u001b[0m\u001b[0msize\u001b[0m\u001b[1;33m(\u001b[0m\u001b[1;33m)\u001b[0m\u001b[1;33m)\u001b[0m\u001b[1;33m\u001b[0m\u001b[1;33m\u001b[0m\u001b[0m\n\u001b[0m",
      "\u001b[1;31mNameError\u001b[0m: name 'label' is not defined"
     ]
    }
   ],
   "source": [
    "input_num = 2 #输入特征\n",
    "examples_num = 1000 #输入的实例数量\n",
    "x = torch.from_numpy(np.random.normal(0,1,(examples_num,input_num)))   #创建x     1000*2\n",
    "true_w = torch.tensor([3.4,-4.0],dtype= torch.double).view(2,1)                 #权重矩阵 2*1\n",
    "true_b = torch.tensor(2.0)                          #偏置b\n",
    "labels = torch.mm(x,true_w)+true_b\n",
    "#加噪声\n",
    "labels += torch.from_numpy(np.random.normal(0,0.1,(examples_num,1)))\n",
    "print(x.size())\n",
    "print(label.size())"
   ]
  },
  {
   "cell_type": "markdown",
   "metadata": {},
   "source": [
    "数据集创建完毕"
   ]
  },
  {
   "cell_type": "markdown",
   "metadata": {},
   "source": [
    "定义绘图函数，以显示图片"
   ]
  },
  {
   "cell_type": "code",
   "execution_count": 6,
   "metadata": {
    "collapsed": false
   },
   "outputs": [],
   "source": [
    "import matplotlib.pyplot as plt"
   ]
  },
  {
   "cell_type": "code",
   "execution_count": 7,
   "metadata": {
    "collapsed": true
   },
   "outputs": [],
   "source": [
    "def set_figsize(figsize=(10,5)):\n",
    "    plt.rcParams['figure.figsize'] = figsize"
   ]
  },
  {
   "cell_type": "code",
   "execution_count": 8,
   "metadata": {
    "collapsed": false
   },
   "outputs": [
    {
     "data": {
      "text/plain": [
       "<matplotlib.collections.PathCollection at 0x1ebb9c6b2e8>"
      ]
     },
     "execution_count": 8,
     "metadata": {},
     "output_type": "execute_result"
    },
    {
     "data": {
      "image/png": "[encoded data removed]",
      "text/plain": [
       "<Figure size 720x360 with 1 Axes>"
      ]
     },
     "metadata": {
      "needs_background": "light"
     },
     "output_type": "display_data"
    }
   ],
   "source": [
    "set_figsize()\n",
    "#画布初始化\n",
    "plt.scatter(x[:,1].numpy(),labels.numpy(),1)"
   ]
  },
  {
   "cell_type": "markdown",
   "metadata": {},
   "source": [
    "## 数据读取"
   ]
  },
  {
   "cell_type": "code",
   "execution_count": 9,
   "metadata": {
    "collapsed": true
   },
   "outputs": [],
   "source": [
    "import random"
   ]
  },
  {
   "cell_type": "markdown",
   "metadata": {},
   "source": [
    "绘制出数据集features【1】与label的线性散点图"
   ]
  },
  {
   "cell_type": "code",
   "execution_count": 10,
   "metadata": {
    "collapsed": true
   },
   "outputs": [],
   "source": [
    "def data_iter(batch_size,features,labels):\n",
    "    examples_num = len(features)\n",
    "    indices = list(range(examples_num))\n",
    "    random.shuffle(indices)#样本随机读取\n",
    "    for i in range(0,examples_num,batch_size):\n",
    "        j = torch.LongTensor(indices[i:min(i+batch_size,examples_num)])   #创建indices的切片,indices已经随机\n",
    "        yield x.index_select(0,j),labels.index_select(0,j)"
   ]
  },
  {
   "cell_type": "markdown",
   "metadata": {},
   "source": [
    "--函数用法</br>\n",
    "yield封装一个迭代器，next调用时生效\n",
    "--index_select(0,j)</br>\n",
    "0代表按行索引，1表示按列索引，j代表索引的index</br>\n",
    "处理方式很有意思"
   ]
  },
  {
   "cell_type": "code",
   "execution_count": 11,
   "metadata": {
    "collapsed": false
   },
   "outputs": [
    {
     "name": "stdout",
     "output_type": "stream",
     "text": [
      "torch.Size([64, 2])\n",
      "torch.Size([64, 1])\n",
      "---------------\n",
      "torch.Size([64, 2])\n",
      "torch.Size([64, 1])\n",
      "---------------\n",
      "torch.Size([64, 2])\n",
      "torch.Size([64, 1])\n",
      "---------------\n",
      "torch.Size([64, 2])\n",
      "torch.Size([64, 1])\n",
      "---------------\n",
      "torch.Size([64, 2])\n",
      "torch.Size([64, 1])\n",
      "---------------\n",
      "torch.Size([64, 2])\n",
      "torch.Size([64, 1])\n",
      "---------------\n",
      "torch.Size([64, 2])\n",
      "torch.Size([64, 1])\n",
      "---------------\n",
      "torch.Size([64, 2])\n",
      "torch.Size([64, 1])\n",
      "---------------\n",
      "torch.Size([64, 2])\n",
      "torch.Size([64, 1])\n",
      "---------------\n",
      "torch.Size([64, 2])\n",
      "torch.Size([64, 1])\n",
      "---------------\n",
      "torch.Size([64, 2])\n",
      "torch.Size([64, 1])\n",
      "---------------\n",
      "torch.Size([64, 2])\n",
      "torch.Size([64, 1])\n",
      "---------------\n",
      "torch.Size([64, 2])\n",
      "torch.Size([64, 1])\n",
      "---------------\n",
      "torch.Size([64, 2])\n",
      "torch.Size([64, 1])\n",
      "---------------\n",
      "torch.Size([64, 2])\n",
      "torch.Size([64, 1])\n",
      "---------------\n",
      "torch.Size([40, 2])\n",
      "torch.Size([40, 1])\n",
      "---------------\n"
     ]
    }
   ],
   "source": [
    "for train_data,train_labels in data_iter(batch_size=64,features=x,labels=labels):\n",
    "    print(train_data.size())\n",
    "    print(train_labels.size())\n",
    "    print(\"---------------\")\n",
    "#按照batch_size输出"
   ]
  },
  {
   "cell_type": "markdown",
   "metadata": {},
   "source": [
    "## 初始化模型参数"
   ]
  },
  {
   "cell_type": "code",
   "execution_count": 12,
   "metadata": {
    "collapsed": true
   },
   "outputs": [],
   "source": [
    "w = torch.tensor(np.random.normal(0,0.1,(input_num,1)),dtype=torch.double)  #w 2*1\n",
    "b = torch.zeros(1,dtype = torch.double)"
   ]
  },
  {
   "cell_type": "code",
   "execution_count": 13,
   "metadata": {
    "collapsed": false
   },
   "outputs": [
    {
     "data": {
      "text/plain": [
       "tensor([0.], dtype=torch.float64, requires_grad=True)"
      ]
     },
     "execution_count": 13,
     "metadata": {},
     "output_type": "execute_result"
    }
   ],
   "source": [
    "w.requires_grad_(True)\n",
    "b.requires_grad_(True)  #使用SGD需要他们的梯度"
   ]
  },
  {
   "cell_type": "markdown",
   "metadata": {},
   "source": [
    "# 定义模型——线性回归函数定义"
   ]
  },
  {
   "cell_type": "code",
   "execution_count": 14,
   "metadata": {
    "collapsed": true
   },
   "outputs": [],
   "source": [
    "def linear(x,w,b):\n",
    "    return torch.mm(x,w)+b"
   ]
  },
  {
   "cell_type": "markdown",
   "metadata": {},
   "source": [
    "# 定义损失函数"
   ]
  },
  {
   "cell_type": "code",
   "execution_count": 15,
   "metadata": {
    "collapsed": true
   },
   "outputs": [],
   "source": [
    "def squred_loss(y_pred,y):\n",
    "    return (y_pred-y)**2/2      #MES loss的一半"
   ]
  },
  {
   "cell_type": "markdown",
   "metadata": {},
   "source": [
    "# 定义优化算法"
   ]
  },
  {
   "cell_type": "code",
   "execution_count": 16,
   "metadata": {
    "collapsed": true
   },
   "outputs": [],
   "source": [
    "def sgd(params,lr,batch_size):\n",
    "    for param in params:\n",
    "        param.data -= lr*param.grad/batch_size        #attention:使用的param.data03，不影响反向传播"
   ]
  },
  {
   "cell_type": "markdown",
   "metadata": {},
   "source": [
    "# 训练模型"
   ]
  },
  {
   "cell_type": "code",
   "execution_count": 17,
   "metadata": {
    "collapsed": true
   },
   "outputs": [],
   "source": [
    "from tqdm import trange"
   ]
  },
  {
   "cell_type": "code",
   "execution_count": 19,
   "metadata": {
    "collapsed": false
   },
   "outputs": [
    {
     "name": "stderr",
     "output_type": "stream",
     "text": [
      " 28%|████████████▎                               | 28/100 [00:00<00:00, 272.58it/s]"
     ]
    },
    {
     "name": "stdout",
     "output_type": "stream",
     "text": [
      "epoch:1, loss: 0.412564 \n",
      "epoch:2, loss: 0.172595 \n",
      "epoch:3, loss: 0.073983 \n",
      "epoch:4, loss: 0.033505 \n",
      "epoch:5, loss: 0.016893 \n",
      "epoch:6, loss: 0.010067 \n",
      "epoch:7, loss: 0.007262 \n",
      "epoch:8, loss: 0.006107 \n",
      "epoch:9, loss: 0.005625 \n",
      "epoch:10, loss: 0.005433 \n",
      "epoch:11, loss: 0.005353 \n",
      "epoch:12, loss: 0.005320 \n",
      "epoch:13, loss: 0.005306 \n",
      "epoch:14, loss: 0.005301 \n",
      "epoch:15, loss: 0.005299 \n",
      "epoch:16, loss: 0.005298 \n",
      "epoch:17, loss: 0.005297 \n",
      "epoch:18, loss: 0.005297 \n",
      "epoch:19, loss: 0.005297 \n",
      "epoch:20, loss: 0.005297 \n",
      "epoch:21, loss: 0.005297 \n",
      "epoch:22, loss: 0.005297 \n",
      "epoch:23, loss: 0.005298 \n",
      "epoch:24, loss: 0.005298 \n",
      "epoch:25, loss: 0.005298 \n",
      "epoch:26, loss: 0.005297 \n",
      "epoch:27, loss: 0.005297 \n",
      "epoch:28, loss: 0.005297 \n",
      "epoch:29, loss: 0.005297 \n",
      "epoch:30, loss: 0.005298 \n",
      "epoch:31, loss: 0.005297 \n",
      "epoch:32, loss: 0.005297 \n",
      "epoch:33, loss: 0.005297 \n",
      "epoch:34, loss: 0.005297 \n",
      "epoch:35, loss: 0.005297 \n",
      "epoch:36, loss: 0.005297 \n",
      "epoch:37, loss: 0.005297 \n",
      "epoch:38, loss: 0.005298 \n",
      "epoch:39, loss: 0.005297 \n",
      "epoch:40, loss: 0.005297 \n",
      "epoch:41, loss: 0.005297 \n",
      "epoch:42, loss: 0.005297 \n",
      "epoch:43, loss: 0.005297 \n",
      "epoch:44, loss: 0.005298 \n",
      "epoch:45, loss: 0.005297 \n",
      "epoch:46, loss: 0.005297 \n",
      "epoch:47, loss: 0.005298 \n",
      "epoch:48, loss: 0.005298 \n",
      "epoch:49, loss: 0.005298 \n",
      "epoch:50, loss: 0.005298 \n",
      "epoch:51, loss: 0.005298 \n",
      "epoch:52, loss: 0.005297 \n"
     ]
    },
    {
     "name": "stderr",
     "output_type": "stream",
     "text": [
      "100%|███████████████████████████████████████████| 100/100 [00:00<00:00, 270.26it/s]"
     ]
    },
    {
     "name": "stdout",
     "output_type": "stream",
     "text": [
      "epoch:53, loss: 0.005297 \n",
      "epoch:54, loss: 0.005297 \n",
      "epoch:55, loss: 0.005297 \n",
      "epoch:56, loss: 0.005297 \n",
      "epoch:57, loss: 0.005297 \n",
      "epoch:58, loss: 0.005297 \n",
      "epoch:59, loss: 0.005297 \n",
      "epoch:60, loss: 0.005297 \n",
      "epoch:61, loss: 0.005297 \n",
      "epoch:62, loss: 0.005297 \n",
      "epoch:63, loss: 0.005297 \n",
      "epoch:64, loss: 0.005297 \n",
      "epoch:65, loss: 0.005297 \n",
      "epoch:66, loss: 0.005297 \n",
      "epoch:67, loss: 0.005297 \n",
      "epoch:68, loss: 0.005297 \n",
      "epoch:69, loss: 0.005298 \n",
      "epoch:70, loss: 0.005297 \n",
      "epoch:71, loss: 0.005297 \n",
      "epoch:72, loss: 0.005297 \n",
      "epoch:73, loss: 0.005297 \n",
      "epoch:74, loss: 0.005298 \n",
      "epoch:75, loss: 0.005297 \n",
      "epoch:76, loss: 0.005298 \n",
      "epoch:77, loss: 0.005297 \n",
      "epoch:78, loss: 0.005297 \n",
      "epoch:79, loss: 0.005297 \n",
      "epoch:80, loss: 0.005297 \n",
      "epoch:81, loss: 0.005297 \n",
      "epoch:82, loss: 0.005298 \n",
      "epoch:83, loss: 0.005297 \n",
      "epoch:84, loss: 0.005297 \n",
      "epoch:85, loss: 0.005297 \n",
      "epoch:86, loss: 0.005297 \n",
      "epoch:87, loss: 0.005297 \n",
      "epoch:88, loss: 0.005297 \n",
      "epoch:89, loss: 0.005297 \n",
      "epoch:90, loss: 0.005297 \n",
      "epoch:91, loss: 0.005297 \n",
      "epoch:92, loss: 0.005298 \n",
      "epoch:93, loss: 0.005298 \n",
      "epoch:94, loss: 0.005297 \n",
      "epoch:95, loss: 0.005297 \n",
      "epoch:96, loss: 0.005297 \n",
      "epoch:97, loss: 0.005297 \n",
      "epoch:98, loss: 0.005297 \n",
      "epoch:99, loss: 0.005297 \n",
      "epoch:100, loss: 0.005298 \n"
     ]
    },
    {
     "name": "stderr",
     "output_type": "stream",
     "text": [
      "\n"
     ]
    }
   ],
   "source": [
    "lr = 0.03 #learning rate\n",
    "num_epochs = 100\n",
    "net = linear\n",
    "batch_size = 64\n",
    "loss = squred_loss\n",
    "for epoch in trange(num_epochs):\n",
    "    for train_data,train_labels in data_iter(batch_size,x,labels):\n",
    "        l = loss(net(train_data,w,b),train_labels).sum() #get loss\n",
    "        l.backward()\n",
    "        sgd([w,b],lr,batch_size)\n",
    "        \n",
    "        #梯度清零\n",
    "        w.grad.data.zero_()\n",
    "        b.grad.data.zero_()\n",
    "    train_l = loss(net(x,w,b),labels)\n",
    "    print(\"epoch:%d, loss: %f \"%(epoch+1,train_l.mean().item()))"
   ]
  },
  {
   "cell_type": "code",
   "execution_count": 21,
   "metadata": {
    "collapsed": false
   },
   "outputs": [
    {
     "name": "stdout",
     "output_type": "stream",
     "text": [
      "真实w= tensor([[ 3.4000],\n",
      "        [-4.0000]], dtype=torch.float64) b= tensor(2.)\n",
      "预测w= tensor([[ 3.3985],\n",
      "        [-3.9966]], dtype=torch.float64, requires_grad=True) b= tensor([2.0019], dtype=torch.float64, requires_grad=True)\n"
     ]
    }
   ],
   "source": [
    "print(\"真实w=\",true_w,\"b=\",true_b)\n",
    "print(\"预测w=\",w,\"b=\",b)"
   ]
  }
 ],
 "metadata": {
  "kernelspec": {
   "display_name": "pytorch",
   "language": "python",
   "name": "pytorch"
  },
  "language_info": {
   "codemirror_mode": {
    "name": "ipython",
    "version": 3
   },
   "file_extension": ".py",
   "mimetype": "text/x-python",
   "name": "python",
   "nbconvert_exporter": "python",
   "pygments_lexer": "ipython3",
   "version": "3.6.13"
  }
 },
 "nbformat": 4,
 "nbformat_minor": 2
}
