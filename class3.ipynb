{
 "cells": [
  {
   "cell_type": "markdown",
   "metadata": {},
   "source": [
    "# 线性回归简洁实现"
   ]
  },
  {
   "cell_type": "markdown",
   "metadata": {},
   "source": [
    "学习内容\n",
    "- 使用pytorch中的utils.Data来实现数据集的封装，并使用DataLoader进行数据的载入\n",
    "- 在pytorch中，学习使用torch.nn模型搭建(搭积木）\n",
    "- 模型参数初始化，torch.nn.init\n",
    "- 使用pytorch中的优化器,torch.optim\n",
    "- 训练模型，体验网络搭建与训练"
   ]
  },
  {
   "cell_type": "markdown",
   "metadata": {},
   "source": [
    "# 你将学到有关pytorch的"
   ]
  },
  {
   "cell_type": "markdown",
   "metadata": {},
   "source": [
    "- torch.utils\n",
    "    - torch.utils.data\n",
    "        - Data.TensorDataset\n",
    "        - Data.DataLoader(dataset,batch_size,shuffle=True)\n",
    "- torch.nn\n",
    "    - torch.nn.Linear()\n",
    "        - constant_()\n",
    "        - weight_()\n",
    "    - torch.nn.init\n",
    "    - torch.nn.MSEloss()\n",
    "    - torch.nn.Sequential()\n",
    "- torch.optim\n",
    "    - param_group['lr']*=0.1(in optimizer.param_groups)调整学习率"
   ]
  },
  {
   "cell_type": "code",
   "execution_count": 7,
   "metadata": {
    "collapsed": true
   },
   "outputs": [],
   "source": [
    "import torch\n",
    "import numpy as np\n",
    "import torch.nn as nn"
   ]
  },
  {
   "cell_type": "code",
   "execution_count": 3,
   "metadata": {
    "collapsed": false
   },
   "outputs": [
    {
     "name": "stdout",
     "output_type": "stream",
     "text": [
      "torch.Size([1000, 2])\n",
      "torch.Size([1000, 1])\n"
     ]
    }
   ],
   "source": [
    "examples_num = 1000\n",
    "input_num = 2\n",
    "x = torch.tensor(np.random.normal(0,1,(examples_num,input_num)),dtype = torch.float32)#1000*2\n",
    "true_w = torch.tensor([3.4,-7.2],dtype=torch.float32).view(2,1) #2*1\n",
    "true_b = torch.tensor(3.8,dtype = torch.float32)\n",
    "labels = torch.mm(x,true_w)+true_b\n",
    "print(x.size())\n",
    "print(labels.size())"
   ]
  },
  {
   "cell_type": "markdown",
   "metadata": {},
   "source": [
    "# 读取数据"
   ]
  },
  {
   "cell_type": "code",
   "execution_count": 4,
   "metadata": {
    "collapsed": true
   },
   "outputs": [],
   "source": [
    "import torch.utils.data as Data"
   ]
  },
  {
   "cell_type": "code",
   "execution_count": 5,
   "metadata": {
    "collapsed": true
   },
   "outputs": [],
   "source": [
    "batch_size = 64\n",
    "dataset = Data.TensorDataset(x,labels)\n",
    "data_iter = Data.DataLoader(dataset,batch_size,shuffle=True)"
   ]
  },
  {
   "cell_type": "code",
   "execution_count": 6,
   "metadata": {
    "collapsed": false
   },
   "outputs": [
    {
     "name": "stdout",
     "output_type": "stream",
     "text": [
      "torch.Size([64, 2])\n",
      "torch.Size([64, 1])\n",
      "--------\n",
      "torch.Size([64, 2])\n",
      "torch.Size([64, 1])\n",
      "--------\n",
      "torch.Size([64, 2])\n",
      "torch.Size([64, 1])\n",
      "--------\n",
      "torch.Size([64, 2])\n",
      "torch.Size([64, 1])\n",
      "--------\n",
      "torch.Size([64, 2])\n",
      "torch.Size([64, 1])\n",
      "--------\n",
      "torch.Size([64, 2])\n",
      "torch.Size([64, 1])\n",
      "--------\n",
      "torch.Size([64, 2])\n",
      "torch.Size([64, 1])\n",
      "--------\n",
      "torch.Size([64, 2])\n",
      "torch.Size([64, 1])\n",
      "--------\n",
      "torch.Size([64, 2])\n",
      "torch.Size([64, 1])\n",
      "--------\n",
      "torch.Size([64, 2])\n",
      "torch.Size([64, 1])\n",
      "--------\n",
      "torch.Size([64, 2])\n",
      "torch.Size([64, 1])\n",
      "--------\n",
      "torch.Size([64, 2])\n",
      "torch.Size([64, 1])\n",
      "--------\n",
      "torch.Size([64, 2])\n",
      "torch.Size([64, 1])\n",
      "--------\n",
      "torch.Size([64, 2])\n",
      "torch.Size([64, 1])\n",
      "--------\n",
      "torch.Size([64, 2])\n",
      "torch.Size([64, 1])\n",
      "--------\n",
      "torch.Size([40, 2])\n",
      "torch.Size([40, 1])\n",
      "--------\n"
     ]
    }
   ],
   "source": [
    "for i,j in data_iter:\n",
    "    print(i.size())\n",
    "    print(j.size())\n",
    "    print(\"--------\")"
   ]
  },
  {
   "cell_type": "markdown",
   "metadata": {},
   "source": [
    "# 定义模型"
   ]
  },
  {
   "cell_type": "code",
   "execution_count": 20,
   "metadata": {
    "collapsed": false
   },
   "outputs": [],
   "source": [
    "#定义方法一 先声明层然后在forward里面进行封装\n",
    "class LinearNet(nn.Module):\n",
    "    #继承类，定义层\n",
    "    def __init__(self,n_features):\n",
    "        super(LinearNet,self).__init__()\n",
    "        self.linear = nn.Linear(n_features,1)\n",
    "    \n",
    "    #前向传播\n",
    "    def forward(self,x):\n",
    "        y = self.linear(x)\n",
    "        return y"
   ]
  },
  {
   "cell_type": "code",
   "execution_count": 21,
   "metadata": {
    "collapsed": false
   },
   "outputs": [
    {
     "name": "stdout",
     "output_type": "stream",
     "text": [
      "LinearNet(\n",
      "  (linear): Linear(in_features=10, out_features=1, bias=True)\n",
      ")\n"
     ]
    }
   ],
   "source": [
    "net = LinearNet(10)\n",
    "print(net)    #线性层模型"
   ]
  },
  {
   "cell_type": "code",
   "execution_count": 22,
   "metadata": {
    "collapsed": false
   },
   "outputs": [
    {
     "name": "stdout",
     "output_type": "stream",
     "text": [
      "Sequential(\n",
      "  (0): Linear(in_features=2, out_features=1, bias=True)\n",
      ")\n"
     ]
    }
   ],
   "source": [
    "#写法二 直接封装\n",
    "net = nn.Sequential(nn.Linear(input_num,1))\n",
    "print(net)"
   ]
  },
  {
   "cell_type": "code",
   "execution_count": 23,
   "metadata": {
    "collapsed": false
   },
   "outputs": [
    {
     "name": "stdout",
     "output_type": "stream",
     "text": [
      "Sequential(\n",
      "  (linear): Linear(in_features=2, out_features=1, bias=True)\n",
      ")\n"
     ]
    }
   ],
   "source": [
    "#写法三:先创建后加\n",
    "net = nn.Sequential()\n",
    "net.add_module('linear',nn.Linear(input_num,1))\n",
    "print(net)"
   ]
  },
  {
   "cell_type": "markdown",
   "metadata": {},
   "source": [
    "net.parameters()可查看可学习参数"
   ]
  },
  {
   "cell_type": "code",
   "execution_count": 24,
   "metadata": {
    "collapsed": false
   },
   "outputs": [
    {
     "name": "stdout",
     "output_type": "stream",
     "text": [
      "Parameter containing:\n",
      "tensor([[ 0.4857, -0.4204]], requires_grad=True)\n",
      "Parameter containing:\n",
      "tensor([-0.0931], requires_grad=True)\n"
     ]
    }
   ],
   "source": [
    "#打印模型参数看一看\n",
    "for param in net.parameters():\n",
    "    print(param)"
   ]
  },
  {
   "cell_type": "markdown",
   "metadata": {},
   "source": [
    "# 初始化模型参数"
   ]
  },
  {
   "cell_type": "code",
   "execution_count": 25,
   "metadata": {
    "collapsed": false,
    "scrolled": true
   },
   "outputs": [
    {
     "data": {
      "text/plain": [
       "Parameter containing:\n",
       "tensor([0.], requires_grad=True)"
      ]
     },
     "execution_count": 25,
     "metadata": {},
     "output_type": "execute_result"
    }
   ],
   "source": [
    "#初始化\n",
    "from torch.nn import init\n",
    "init.normal_(net[0].weight,mean=0,std=0.01)   #权重初始化\n",
    "init.constant_(net[0].bias,val=0)   #b的初始化，constant常量等效于net[0].bias.data.fill_(0)\n",
    "#注：net[0]表示网络第一层，xxxx_()这样的函数一般表示对前一个属性执行后一个操作"
   ]
  },
  {
   "cell_type": "markdown",
   "metadata": {},
   "source": [
    "# 定义损失函数"
   ]
  },
  {
   "cell_type": "code",
   "execution_count": 31,
   "metadata": {
    "collapsed": true
   },
   "outputs": [],
   "source": [
    "loss = nn.MSELoss()\n",
    "#均方差损失"
   ]
  },
  {
   "cell_type": "markdown",
   "metadata": {},
   "source": [
    "# 定义优化算法"
   ]
  },
  {
   "cell_type": "code",
   "execution_count": 27,
   "metadata": {
    "collapsed": false
   },
   "outputs": [
    {
     "name": "stdout",
     "output_type": "stream",
     "text": [
      "SGD (\n",
      "Parameter Group 0\n",
      "    dampening: 0\n",
      "    lr: 0.03\n",
      "    momentum: 0\n",
      "    nesterov: False\n",
      "    weight_decay: 0\n",
      ")\n"
     ]
    }
   ],
   "source": [
    "import torch.optim as optim\n",
    "#定义随机梯度下降的优化算法\n",
    "optimizer = optim.SGD(net.parameters(),lr=0.03)\n",
    "print(optimizer)"
   ]
  },
  {
   "cell_type": "code",
   "execution_count": 28,
   "metadata": {
    "collapsed": false
   },
   "outputs": [
    {
     "name": "stdout",
     "output_type": "stream",
     "text": [
      "SGD (\n",
      "Parameter Group 0\n",
      "    dampening: 0\n",
      "    lr: 0.003\n",
      "    momentum: 0\n",
      "    nesterov: False\n",
      "    weight_decay: 0\n",
      ")\n"
     ]
    }
   ],
   "source": [
    "#对参数进行相应调整应该怎么办？\n",
    "for param_group in optimizer.param_groups:\n",
    "    param_group['lr']*=0.1\n",
    "print(optimizer)"
   ]
  },
  {
   "cell_type": "markdown",
   "metadata": {},
   "source": [
    "# 训练模型"
   ]
  },
  {
   "cell_type": "code",
   "execution_count": 30,
   "metadata": {
    "collapsed": true
   },
   "outputs": [],
   "source": [
    "import tqdm\n",
    "from tqdm import trange"
   ]
  },
  {
   "cell_type": "code",
   "execution_count": 32,
   "metadata": {
    "collapsed": false
   },
   "outputs": [
    {
     "name": "stderr",
     "output_type": "stream",
     "text": [
      "  0%|                                                                                                                                      | 0/1000 [00:00<?, ?it/s]F:\\Anaconda3\\envs\\pytorch\\lib\\site-packages\\torch\\autograd\\__init__.py:149: UserWarning: CUDA initialization: The NVIDIA driver on your system is too old (found version 9020). Please update your GPU driver by downloading and installing a new version from the URL: http://www.nvidia.com/Download/index.aspx Alternatively, go to: https://pytorch.org to install a PyTorch version that has been compiled with your version of the CUDA driver. (Triggered internally at  ..\\c10\\cuda\\CUDAFunctions.cpp:115.)\n",
      "  allow_unreachable=True, accumulate_grad=True)  # allow_unreachable flag\n",
      "  1%|█▍                                                                                                                           | 11/1000 [00:00<00:39, 25.06it/s]"
     ]
    },
    {
     "name": "stdout",
     "output_type": "stream",
     "text": [
      "epoach: 0 loss 69.87376403808594\n",
      "epoach: 1 loss 51.8515739440918\n",
      "epoach: 2 loss 30.370433807373047\n",
      "epoach: 3 loss 27.279865264892578\n",
      "epoach: 4 loss 37.68402862548828\n",
      "epoach: 5 loss 22.00126075744629\n",
      "epoach: 6 loss 24.985698699951172\n",
      "epoach: 7 loss 12.386274337768555\n",
      "epoach: 8 loss 17.4079647064209\n",
      "epoach: 9 loss 13.625602722167969\n",
      "epoach: 10 loss 10.316607475280762\n",
      "epoach: 11 loss 10.334577560424805\n",
      "epoach: 12 loss 7.4951276779174805\n",
      "epoach: 13 loss 4.4890875816345215\n",
      "epoach: 14 loss 5.054732322692871\n",
      "epoach: 15 loss 2.402777910232544\n",
      "epoach: 16 loss 3.9902853965759277\n",
      "epoach: 17 loss 3.1321213245391846\n",
      "epoach: 18 loss 1.6493886709213257\n",
      "epoach: 19 loss 1.9161888360977173\n",
      "epoach: 20 loss 0.9567724466323853\n"
     ]
    },
    {
     "name": "stderr",
     "output_type": "stream",
     "text": [
      "  3%|████▎                                                                                                                        | 34/1000 [00:00<00:15, 62.86it/s]"
     ]
    },
    {
     "name": "stdout",
     "output_type": "stream",
     "text": [
      "epoach: 21 loss 1.7708686590194702\n",
      "epoach: 22 loss 0.8830572962760925\n",
      "epoach: 23 loss 0.7687305808067322\n",
      "epoach: 24 loss 0.7929588556289673\n",
      "epoach: 25 loss 0.4623769223690033\n",
      "epoach: 26 loss 0.4898095726966858\n",
      "epoach: 27 loss 0.4428015649318695\n",
      "epoach: 28 loss 0.36360159516334534\n",
      "epoach: 29 loss 0.2333991974592209\n",
      "epoach: 30 loss 0.24773840606212616\n",
      "epoach: 31 loss 0.1940213441848755\n",
      "epoach: 32 loss 0.16140256822109222\n",
      "epoach: 33 loss 0.16314662992954254\n",
      "epoach: 34 loss 0.07612945139408112\n",
      "epoach: 35 loss 0.10286961495876312\n",
      "epoach: 36 loss 0.0854451060295105\n",
      "epoach: 37 loss 0.06279196590185165\n",
      "epoach: 38 loss 0.04335251823067665\n",
      "epoach: 39 loss 0.04996829479932785\n",
      "epoach: 40 loss 0.049746301025152206\n",
      "epoach: 41 loss 0.044433292001485825\n"
     ]
    },
    {
     "name": "stderr",
     "output_type": "stream",
     "text": [
      "  6%|███████                                                                                                                      | 56/1000 [00:01<00:11, 80.62it/s]"
     ]
    },
    {
     "name": "stdout",
     "output_type": "stream",
     "text": [
      "epoach: 42 loss 0.03100723586976528\n",
      "epoach: 43 loss 0.027408650144934654\n",
      "epoach: 44 loss 0.015771742910146713\n",
      "epoach: 45 loss 0.017648305743932724\n",
      "epoach: 46 loss 0.024906272068619728\n",
      "epoach: 47 loss 0.010822562500834465\n",
      "epoach: 48 loss 0.014356732368469238\n",
      "epoach: 49 loss 0.00694147776812315\n",
      "epoach: 50 loss 0.007074546068906784\n",
      "epoach: 51 loss 0.004722992889583111\n",
      "epoach: 52 loss 0.005972160492092371\n",
      "epoach: 53 loss 0.004896694328635931\n",
      "epoach: 54 loss 0.0026985856238752604\n",
      "epoach: 55 loss 0.002785645890980959\n",
      "epoach: 56 loss 0.0016589472070336342\n",
      "epoach: 57 loss 0.00206276448443532\n",
      "epoach: 58 loss 0.0013693284709006548\n",
      "epoach: 59 loss 0.0017109222244471312\n"
     ]
    },
    {
     "name": "stderr",
     "output_type": "stream",
     "text": [
      "  8%|█████████▌                                                                                                                   | 76/1000 [00:01<00:10, 87.18it/s]"
     ]
    },
    {
     "name": "stdout",
     "output_type": "stream",
     "text": [
      "epoach: 60 loss 0.0012509574880823493\n",
      "epoach: 61 loss 0.0008474942296743393\n",
      "epoach: 62 loss 0.0009836932877078652\n",
      "epoach: 63 loss 0.0005728289252147079\n",
      "epoach: 64 loss 0.000741197494789958\n",
      "epoach: 65 loss 0.0003618134360294789\n",
      "epoach: 66 loss 0.00030351284658536315\n",
      "epoach: 67 loss 0.0002892844204325229\n",
      "epoach: 68 loss 0.00022828616783954203\n",
      "epoach: 69 loss 0.00017852973542176187\n",
      "epoach: 70 loss 0.0001373487466480583\n",
      "epoach: 71 loss 0.0001261949073523283\n",
      "epoach: 72 loss 0.00010855169966816902\n",
      "epoach: 73 loss 9.630084969103336e-05\n",
      "epoach: 74 loss 6.46824628347531e-05\n",
      "epoach: 75 loss 8.975929085863754e-05\n",
      "epoach: 76 loss 4.622768028639257e-05\n"
     ]
    },
    {
     "name": "stderr",
     "output_type": "stream",
     "text": [
      " 10%|████████████▏                                                                                                                | 97/1000 [00:01<00:09, 93.96it/s]"
     ]
    },
    {
     "name": "stdout",
     "output_type": "stream",
     "text": [
      "epoach: 77 loss 5.9517293266253546e-05\n",
      "epoach: 78 loss 3.352120256749913e-05\n",
      "epoach: 79 loss 3.4263794077560306e-05\n",
      "epoach: 80 loss 2.869622221624013e-05\n",
      "epoach: 81 loss 1.8857335817301646e-05\n",
      "epoach: 82 loss 2.527636752347462e-05\n",
      "epoach: 83 loss 1.6019777831388637e-05\n",
      "epoach: 84 loss 7.452411409758497e-06\n",
      "epoach: 85 loss 1.123770016420167e-05\n",
      "epoach: 86 loss 9.571294867782854e-06\n",
      "epoach: 87 loss 8.07394644652959e-06\n",
      "epoach: 88 loss 6.402337021427229e-06\n",
      "epoach: 89 loss 5.049178980698343e-06\n",
      "epoach: 90 loss 2.930735718109645e-06\n",
      "epoach: 91 loss 4.3917052607866935e-06\n",
      "epoach: 92 loss 2.970312834804645e-06\n",
      "epoach: 93 loss 2.894559202104574e-06\n",
      "epoach: 94 loss 2.6738214273791527e-06\n",
      "epoach: 95 loss 2.179172952310182e-06\n",
      "epoach: 96 loss 1.3774266562904813e-06\n"
     ]
    },
    {
     "name": "stderr",
     "output_type": "stream",
     "text": [
      "\r",
      " 11%|█████████████▍                                                                                                              | 108/1000 [00:01<00:09, 97.50it/s]"
     ]
    },
    {
     "name": "stdout",
     "output_type": "stream",
     "text": [
      "epoach: 97 loss 9.384074246554519e-07\n",
      "epoach: 98 loss 6.976549116188835e-07\n",
      "epoach: 99 loss 7.040646892164659e-07\n",
      "epoach: 100 loss 8.725328370928764e-07\n",
      "epoach: 101 loss 5.712898882848094e-07\n",
      "epoach: 102 loss 6.049792773410445e-07\n",
      "epoach: 103 loss 3.6583543305823696e-07\n",
      "epoach: 104 loss 2.1012678530496487e-07\n",
      "epoach: 105 loss 3.4462189546502486e-07\n",
      "epoach: 106 loss 1.982496087293839e-07\n",
      "epoach: 107 loss 1.8363728315762273e-07\n",
      "epoach: 108 loss 1.2182991326881165e-07\n",
      "epoach: 109 loss 1.2779851488176064e-07\n",
      "epoach: 110 loss 9.31652976987607e-08\n",
      "epoach: 111 loss 8.799312922747049e-08\n",
      "epoach: 112 loss 6.238409611114548e-08\n",
      "epoach: 113 loss 7.172165084057269e-08\n",
      "epoach: 114 loss 4.839463230155161e-08\n",
      "epoach: 115 loss 5.1461920946849204e-08\n",
      "epoach: 116 loss 2.5318811935903796e-08\n",
      "epoach: 117 loss 3.551713234628551e-08\n",
      "epoach: 118 loss 3.2821635187474385e-08\n"
     ]
    },
    {
     "name": "stderr",
     "output_type": "stream",
     "text": [
      " 13%|████████████████▏                                                                                                          | 132/1000 [00:01<00:08, 104.34it/s]"
     ]
    },
    {
     "name": "stdout",
     "output_type": "stream",
     "text": [
      "epoach: 119 loss 2.292593137553922e-08\n",
      "epoach: 120 loss 1.7923159845167902e-08\n",
      "epoach: 121 loss 1.4702837169977556e-08\n",
      "epoach: 122 loss 1.7280822106613414e-08\n",
      "epoach: 123 loss 9.139526468970871e-09\n",
      "epoach: 124 loss 5.697806670923455e-09\n",
      "epoach: 125 loss 8.204148471691042e-09\n",
      "epoach: 126 loss 4.730752678483441e-09\n",
      "epoach: 127 loss 5.5517288544137955e-09\n",
      "epoach: 128 loss 4.537297204620927e-09\n",
      "epoach: 129 loss 3.765411982215028e-09\n",
      "epoach: 130 loss 3.4007938687352635e-09\n",
      "epoach: 131 loss 2.0690180679849846e-09\n",
      "epoach: 132 loss 2.5373041445675426e-09\n",
      "epoach: 133 loss 1.8088897046908414e-09\n",
      "epoach: 134 loss 1.3563606904298808e-09\n",
      "epoach: 135 loss 1.2480156907912487e-09\n",
      "epoach: 136 loss 1.2659768788836345e-09\n",
      "epoach: 137 loss 1.9335373302453718e-09\n",
      "epoach: 138 loss 1.5997588809213426e-09\n",
      "epoach: 139 loss 1.6983647821433578e-09\n",
      "epoach: 140 loss 1.3642988960782532e-09\n"
     ]
    },
    {
     "name": "stderr",
     "output_type": "stream",
     "text": [
      " 16%|███████████████████▏                                                                                                       | 156/1000 [00:01<00:07, 107.65it/s]"
     ]
    },
    {
     "name": "stdout",
     "output_type": "stream",
     "text": [
      "epoach: 141 loss 1.3223342421042616e-09\n",
      "epoach: 142 loss 8.222699188209504e-10\n",
      "epoach: 143 loss 1.1884665473971268e-09\n",
      "epoach: 144 loss 1.418348438697592e-09\n",
      "epoach: 145 loss 1.4623395827584318e-09\n",
      "epoach: 146 loss 1.1952281386840014e-09\n",
      "epoach: 147 loss 1.3851078062288025e-09\n",
      "epoach: 148 loss 1.2295402473938566e-09\n",
      "epoach: 149 loss 1.3521400665794658e-09\n",
      "epoach: 150 loss 1.060445287137668e-09\n",
      "epoach: 151 loss 1.0867168276362804e-09\n",
      "epoach: 152 loss 9.74655689489623e-10\n",
      "epoach: 153 loss 7.097789023191581e-10\n",
      "epoach: 154 loss 1.0089025170856303e-09\n",
      "epoach: 155 loss 1.0517158255396453e-09\n",
      "epoach: 156 loss 8.344415158845209e-10\n",
      "epoach: 157 loss 1.0064908906315395e-09\n",
      "epoach: 158 loss 1.157035023346964e-09\n",
      "epoach: 159 loss 1.274409577867175e-09\n",
      "epoach: 160 loss 6.882928116347387e-10\n",
      "epoach: 161 loss 1.0378670145527735e-09\n"
     ]
    },
    {
     "name": "stderr",
     "output_type": "stream",
     "text": [
      " 18%|██████████████████████▏                                                                                                    | 180/1000 [00:02<00:07, 109.24it/s]"
     ]
    },
    {
     "name": "stdout",
     "output_type": "stream",
     "text": [
      "epoach: 162 loss 9.251024946088648e-10\n",
      "epoach: 163 loss 1.2016968531369798e-09\n",
      "epoach: 164 loss 8.995698630442917e-10\n",
      "epoach: 165 loss 6.86557644069552e-10\n",
      "epoach: 166 loss 1.0403511385703723e-09\n",
      "epoach: 167 loss 8.885454039209151e-10\n",
      "epoach: 168 loss 1.1133678423647098e-09\n",
      "epoach: 169 loss 7.551211322898155e-10\n",
      "epoach: 170 loss 1.007086303239646e-09\n",
      "epoach: 171 loss 8.596930944904102e-10\n",
      "epoach: 172 loss 9.310525683758897e-10\n",
      "epoach: 173 loss 9.232209441378814e-10\n",
      "epoach: 174 loss 5.967962235509106e-10\n",
      "epoach: 175 loss 8.80667982983141e-10\n",
      "epoach: 176 loss 9.63403579135047e-10\n",
      "epoach: 177 loss 1.3833091339066073e-09\n",
      "epoach: 178 loss 1.0219167734248913e-09\n",
      "epoach: 179 loss 1.1840797231599254e-09\n",
      "epoach: 180 loss 8.574175813791385e-10\n",
      "epoach: 181 loss 8.189360301003035e-10\n",
      "epoach: 182 loss 8.521254812876577e-10\n"
     ]
    },
    {
     "name": "stderr",
     "output_type": "stream",
     "text": [
      " 20%|████████████████████████▉                                                                                                  | 203/1000 [00:02<00:07, 108.05it/s]"
     ]
    },
    {
     "name": "stdout",
     "output_type": "stream",
     "text": [
      "epoach: 183 loss 8.307026178044907e-10\n",
      "epoach: 184 loss 6.178996758698929e-10\n",
      "epoach: 185 loss 6.86613099709632e-10\n",
      "epoach: 186 loss 6.447308242840677e-10\n",
      "epoach: 187 loss 6.465203372663098e-10\n",
      "epoach: 188 loss 8.306130783175547e-10\n",
      "epoach: 189 loss 8.960512332123471e-10\n",
      "epoach: 190 loss 9.269740530726267e-10\n",
      "epoach: 191 loss 9.944358669855546e-10\n",
      "epoach: 192 loss 7.992643213938777e-10\n",
      "epoach: 193 loss 8.177238330908665e-10\n",
      "epoach: 194 loss 8.362207037926339e-10\n",
      "epoach: 195 loss 8.476039314864181e-10\n",
      "epoach: 196 loss 8.882597990478303e-10\n",
      "epoach: 197 loss 6.956739073693541e-10\n",
      "epoach: 198 loss 9.232067332831662e-10\n",
      "epoach: 199 loss 7.979679139680229e-10\n",
      "epoach: 200 loss 1.239695235355498e-09\n",
      "epoach: 201 loss 8.170459864231816e-10\n",
      "epoach: 202 loss 9.49924583437678e-10\n",
      "epoach: 203 loss 1.0981793252540228e-09\n"
     ]
    },
    {
     "name": "stderr",
     "output_type": "stream",
     "text": [
      "\r",
      " 21%|██████████████████████████▎                                                                                                | 214/1000 [00:02<00:07, 106.27it/s]"
     ]
    },
    {
     "name": "stdout",
     "output_type": "stream",
     "text": [
      "epoach: 204 loss 1.3877425875108429e-09\n",
      "epoach: 205 loss 9.994977068217281e-10\n",
      "epoach: 206 loss 5.833289407064512e-10\n",
      "epoach: 207 loss 1.0450250664817418e-09\n",
      "epoach: 208 loss 7.407436330986172e-10\n",
      "epoach: 209 loss 5.943391334639614e-10\n",
      "epoach: 210 loss 6.101757432652732e-10\n",
      "epoach: 211 loss 5.30684496347078e-10\n",
      "epoach: 212 loss 9.98149118913716e-10\n",
      "epoach: 213 loss 7.592021455948839e-10\n",
      "epoach: 214 loss 8.845276733282503e-10\n",
      "epoach: 215 loss 8.331710321662911e-10\n",
      "epoach: 216 loss 6.015724585139992e-10\n",
      "epoach: 217 loss 9.881517826215713e-10\n",
      "epoach: 218 loss 1.2177281405456597e-09\n",
      "epoach: 219 loss 1.01862551726839e-09\n",
      "epoach: 220 loss 7.944109259305776e-10\n",
      "epoach: 221 loss 9.609720796888155e-10\n",
      "epoach: 222 loss 1.1592874438193235e-09\n",
      "epoach: 223 loss 9.915865906151566e-10\n"
     ]
    },
    {
     "name": "stderr",
     "output_type": "stream",
     "text": [
      " 24%|█████████████████████████████                                                                                              | 236/1000 [00:02<00:07, 103.23it/s]"
     ]
    },
    {
     "name": "stdout",
     "output_type": "stream",
     "text": [
      "epoach: 224 loss 7.850345928872571e-10\n",
      "epoach: 225 loss 5.783789558400088e-10\n",
      "epoach: 226 loss 8.667612183543838e-10\n",
      "epoach: 227 loss 5.718107098928726e-10\n",
      "epoach: 228 loss 8.920594263273074e-10\n",
      "epoach: 229 loss 6.344397229796073e-10\n",
      "epoach: 230 loss 7.241879873554069e-10\n",
      "epoach: 231 loss 7.991218242686671e-10\n",
      "epoach: 232 loss 7.553452863184873e-10\n",
      "epoach: 233 loss 6.232682148166191e-10\n",
      "epoach: 234 loss 9.882483720247137e-10\n",
      "epoach: 235 loss 1.0065349664856171e-09\n",
      "epoach: 236 loss 7.250733347063942e-10\n",
      "epoach: 237 loss 8.019228059374939e-10\n",
      "epoach: 238 loss 4.743554993247301e-10\n",
      "epoach: 239 loss 7.859597417336772e-10\n",
      "epoach: 240 loss 6.618993131368711e-10\n",
      "epoach: 241 loss 8.183889121937682e-10\n",
      "epoach: 242 loss 7.721528416659851e-10\n",
      "epoach: 243 loss 9.481126994614897e-10\n"
     ]
    },
    {
     "name": "stderr",
     "output_type": "stream",
     "text": [
      " 26%|███████████████████████████████▋                                                                                           | 258/1000 [00:02<00:07, 102.10it/s]"
     ]
    },
    {
     "name": "stdout",
     "output_type": "stream",
     "text": [
      "epoach: 244 loss 7.354244990764869e-10\n",
      "epoach: 245 loss 8.672458307046327e-10\n",
      "epoach: 246 loss 7.95795096486529e-10\n",
      "epoach: 247 loss 1.026123186420591e-09\n",
      "epoach: 248 loss 8.151929131727798e-10\n",
      "epoach: 249 loss 8.580783861233954e-10\n",
      "epoach: 250 loss 9.73003011495166e-10\n",
      "epoach: 251 loss 8.821728902930204e-10\n",
      "epoach: 252 loss 6.166388510919774e-10\n",
      "epoach: 253 loss 6.981821232265872e-10\n",
      "epoach: 254 loss 9.905406495036573e-10\n",
      "epoach: 255 loss 7.94210586185784e-10\n",
      "epoach: 256 loss 6.392809615007877e-10\n",
      "epoach: 257 loss 9.820372293134483e-10\n",
      "epoach: 258 loss 4.495337435628244e-10\n",
      "epoach: 259 loss 7.762764875351991e-10\n",
      "epoach: 260 loss 6.973138733101791e-10\n",
      "epoach: 261 loss 7.919325750727069e-10\n",
      "epoach: 262 loss 6.958998932660165e-10\n"
     ]
    },
    {
     "name": "stderr",
     "output_type": "stream",
     "text": [
      " 28%|██████████████████████████████████▍                                                                                        | 280/1000 [00:03<00:07, 102.01it/s]"
     ]
    },
    {
     "name": "stdout",
     "output_type": "stream",
     "text": [
      "epoach: 263 loss 9.408154255652335e-10\n",
      "epoach: 264 loss 5.860812390956482e-10\n",
      "epoach: 265 loss 1.0981182629876685e-09\n",
      "epoach: 266 loss 9.433052117202578e-10\n",
      "epoach: 267 loss 8.813831331444533e-10\n",
      "epoach: 268 loss 3.688754302011432e-10\n",
      "epoach: 269 loss 5.784201451142224e-10\n",
      "epoach: 270 loss 1.0458137689184355e-09\n",
      "epoach: 271 loss 9.878196038926035e-10\n",
      "epoach: 272 loss 8.148262620188973e-10\n",
      "epoach: 273 loss 7.461594120350412e-10\n",
      "epoach: 274 loss 7.648267574822398e-10\n",
      "epoach: 275 loss 7.985306860192054e-10\n",
      "epoach: 276 loss 7.940769708447704e-10\n",
      "epoach: 277 loss 5.977941475165949e-10\n",
      "epoach: 278 loss 7.373373023256136e-10\n",
      "epoach: 279 loss 8.462251455121361e-10\n",
      "epoach: 280 loss 8.553868724447966e-10\n",
      "epoach: 281 loss 6.506326033495213e-10\n",
      "epoach: 282 loss 1.0362356528403893e-09\n",
      "epoach: 283 loss 7.169930205108699e-10\n"
     ]
    },
    {
     "name": "stderr",
     "output_type": "stream",
     "text": [
      " 30%|█████████████████████████████████████▏                                                                                     | 302/1000 [00:03<00:06, 103.03it/s]"
     ]
    },
    {
     "name": "stdout",
     "output_type": "stream",
     "text": [
      "epoach: 284 loss 6.658026907579995e-10\n",
      "epoach: 285 loss 1.204101374163713e-09\n",
      "epoach: 286 loss 1.0191698596173637e-09\n",
      "epoach: 287 loss 8.983647714622123e-10\n",
      "epoach: 288 loss 8.966992703918208e-10\n",
      "epoach: 289 loss 6.660901274990749e-10\n",
      "epoach: 290 loss 9.538070333547921e-10\n",
      "epoach: 291 loss 9.863981853541759e-10\n",
      "epoach: 292 loss 8.181373911675394e-10\n",
      "epoach: 293 loss 1.1537636401826035e-09\n",
      "epoach: 294 loss 4.3581566133710226e-10\n",
      "epoach: 295 loss 7.989015560205814e-10\n",
      "epoach: 296 loss 5.576680228713826e-10\n",
      "epoach: 297 loss 6.54154397317086e-10\n",
      "epoach: 298 loss 7.58913654141935e-10\n",
      "epoach: 299 loss 7.898307563536378e-10\n",
      "epoach: 300 loss 8.066976531218017e-10\n",
      "epoach: 301 loss 7.842771987398578e-10\n",
      "epoach: 302 loss 8.545129048798117e-10\n",
      "epoach: 303 loss 6.286199893956734e-10\n",
      "epoach: 304 loss 7.710624916335007e-10\n"
     ]
    },
    {
     "name": "stderr",
     "output_type": "stream",
     "text": [
      " 33%|████████████████████████████████████████                                                                                   | 326/1000 [00:03<00:06, 106.81it/s]"
     ]
    },
    {
     "name": "stdout",
     "output_type": "stream",
     "text": [
      "epoach: 305 loss 6.416343012460857e-10\n",
      "epoach: 306 loss 4.766491090713032e-10\n",
      "epoach: 307 loss 8.951331897932846e-10\n",
      "epoach: 308 loss 6.167127364342662e-10\n",
      "epoach: 309 loss 9.978464721172031e-10\n",
      "epoach: 310 loss 9.809312251363167e-10\n",
      "epoach: 311 loss 5.089247911982397e-10\n",
      "epoach: 312 loss 7.385381195490481e-10\n",
      "epoach: 313 loss 7.43189343399564e-10\n",
      "epoach: 314 loss 8.486423785925012e-10\n",
      "epoach: 315 loss 7.390255629680098e-10\n",
      "epoach: 316 loss 6.6988831148862e-10\n",
      "epoach: 317 loss 8.561684694541327e-10\n",
      "epoach: 318 loss 9.543341672468841e-10\n",
      "epoach: 319 loss 7.58930696065363e-10\n",
      "epoach: 320 loss 6.268450758462052e-10\n",
      "epoach: 321 loss 5.60031299112751e-10\n",
      "epoach: 322 loss 5.900119282031824e-10\n",
      "epoach: 323 loss 6.702720045659305e-10\n",
      "epoach: 324 loss 6.179021738716983e-10\n",
      "epoach: 325 loss 7.699018089724063e-10\n"
     ]
    },
    {
     "name": "stderr",
     "output_type": "stream",
     "text": [
      "\r",
      " 34%|█████████████████████████████████████████▍                                                                                 | 337/1000 [00:03<00:06, 107.49it/s]"
     ]
    },
    {
     "name": "stdout",
     "output_type": "stream",
     "text": [
      "epoach: 326 loss 6.155463916357462e-10\n",
      "epoach: 327 loss 6.334118785034093e-10\n",
      "epoach: 328 loss 6.686192710603223e-10\n",
      "epoach: 329 loss 5.420176529824516e-10\n",
      "epoach: 330 loss 9.08981667713249e-10\n",
      "epoach: 331 loss 7.666159373975745e-10\n",
      "epoach: 332 loss 7.393438639091698e-10\n",
      "epoach: 333 loss 6.238011218684392e-10\n",
      "epoach: 334 loss 7.822123504475087e-10\n",
      "epoach: 335 loss 8.135757068039595e-10\n",
      "epoach: 336 loss 9.201599482366873e-10\n",
      "epoach: 337 loss 5.395932589635777e-10\n",
      "epoach: 338 loss 6.641204808310874e-10\n",
      "epoach: 339 loss 8.038242294006182e-10\n",
      "epoach: 340 loss 1.1374414743414718e-09\n",
      "epoach: 341 loss 1.0113894166607906e-09\n",
      "epoach: 342 loss 5.651713541610093e-10\n",
      "epoach: 343 loss 9.905661846332237e-10\n",
      "epoach: 344 loss 6.444466071897637e-10\n",
      "epoach: 345 loss 7.105313559740978e-10\n",
      "epoach: 346 loss 4.887965587840881e-10\n",
      "epoach: 347 loss 5.935120728217669e-10\n"
     ]
    },
    {
     "name": "stderr",
     "output_type": "stream",
     "text": [
      " 36%|████████████████████████████████████████████▎                                                                              | 360/1000 [00:03<00:06, 105.82it/s]"
     ]
    },
    {
     "name": "stdout",
     "output_type": "stream",
     "text": [
      "epoach: 348 loss 7.216215403005322e-10\n",
      "epoach: 349 loss 6.9188388351904e-10\n",
      "epoach: 350 loss 4.632084993350105e-10\n",
      "epoach: 351 loss 5.622243781644443e-10\n",
      "epoach: 352 loss 5.041528305937959e-10\n",
      "epoach: 353 loss 5.870915975592084e-10\n",
      "epoach: 354 loss 8.30929991479934e-10\n",
      "epoach: 355 loss 5.974428174404522e-10\n",
      "epoach: 356 loss 9.306745374360048e-10\n",
      "epoach: 357 loss 5.581355932982035e-10\n",
      "epoach: 358 loss 5.631932142868834e-10\n",
      "epoach: 359 loss 7.75884245740599e-10\n",
      "epoach: 360 loss 7.970911153343252e-10\n",
      "epoach: 361 loss 5.583771778283619e-10\n",
      "epoach: 362 loss 9.76172032096656e-10\n",
      "epoach: 363 loss 6.871587743262353e-10\n",
      "epoach: 364 loss 1.0553009577307648e-09\n",
      "epoach: 365 loss 6.378385597471947e-10\n",
      "epoach: 366 loss 6.909971483892718e-10\n"
     ]
    },
    {
     "name": "stderr",
     "output_type": "stream",
     "text": [
      " 38%|██████████████████████████████████████████████▉                                                                            | 382/1000 [00:04<00:05, 104.72it/s]"
     ]
    },
    {
     "name": "stdout",
     "output_type": "stream",
     "text": [
      "epoach: 367 loss 8.507669013724239e-10\n",
      "epoach: 368 loss 8.304837928463371e-10\n",
      "epoach: 369 loss 6.627445259255182e-10\n",
      "epoach: 370 loss 6.051948386875949e-10\n",
      "epoach: 371 loss 1.0398266692135394e-09\n",
      "epoach: 372 loss 7.374509891633352e-10\n",
      "epoach: 373 loss 1.0664124028281208e-09\n",
      "epoach: 374 loss 7.241638400046213e-10\n",
      "epoach: 375 loss 6.405812547072287e-10\n",
      "epoach: 376 loss 5.739010933147881e-10\n",
      "epoach: 377 loss 1.0076661727254077e-09\n",
      "epoach: 378 loss 4.967773969966061e-10\n",
      "epoach: 379 loss 5.595836571892221e-10\n",
      "epoach: 380 loss 5.963556870547393e-10\n",
      "epoach: 381 loss 9.467768791182607e-10\n",
      "epoach: 382 loss 7.039986371637497e-10\n",
      "epoach: 383 loss 6.637080329774392e-10\n",
      "epoach: 384 loss 6.529873308736001e-10\n",
      "epoach: 385 loss 8.462663347863497e-10\n",
      "epoach: 386 loss 5.179828233004002e-10\n"
     ]
    },
    {
     "name": "stderr",
     "output_type": "stream",
     "text": [
      " 40%|█████████████████████████████████████████████████▊                                                                         | 405/1000 [00:04<00:05, 107.22it/s]"
     ]
    },
    {
     "name": "stdout",
     "output_type": "stream",
     "text": [
      "epoach: 387 loss 6.83266443424202e-10\n",
      "epoach: 388 loss 4.5418779848205304e-10\n",
      "epoach: 389 loss 7.853003802793523e-10\n",
      "epoach: 390 loss 5.948237458142103e-10\n",
      "epoach: 391 loss 6.207613867381667e-10\n",
      "epoach: 392 loss 1.009130223827981e-09\n",
      "epoach: 393 loss 4.885393201092825e-10\n",
      "epoach: 394 loss 4.887003024478531e-10\n",
      "epoach: 395 loss 9.205596285255524e-10\n",
      "epoach: 396 loss 6.220304271664645e-10\n",
      "epoach: 397 loss 9.330876071800276e-10\n",
      "epoach: 398 loss 8.17463763347348e-10\n",
      "epoach: 399 loss 7.867100859648701e-10\n",
      "epoach: 400 loss 6.992252332693738e-10\n",
      "epoach: 401 loss 5.296129645948611e-10\n",
      "epoach: 402 loss 7.647216193618078e-10\n",
      "epoach: 403 loss 8.503519555169703e-10\n",
      "epoach: 404 loss 7.406484314742556e-10\n",
      "epoach: 405 loss 6.203510483082653e-10\n",
      "epoach: 406 loss 7.308855742849119e-10\n",
      "epoach: 407 loss 6.167589217120906e-10\n",
      "epoach: 408 loss 6.954877784792757e-10\n"
     ]
    },
    {
     "name": "stderr",
     "output_type": "stream",
     "text": [
      " 43%|████████████████████████████████████████████████████▋                                                                      | 428/1000 [00:04<00:05, 108.39it/s]"
     ]
    },
    {
     "name": "stdout",
     "output_type": "stream",
     "text": [
      "epoach: 409 loss 7.650186040208951e-10\n",
      "epoach: 410 loss 7.470560836608797e-10\n",
      "epoach: 411 loss 9.628238206715878e-10\n",
      "epoach: 412 loss 6.309164857221106e-10\n",
      "epoach: 413 loss 6.690711873424959e-10\n",
      "epoach: 414 loss 7.670450941077434e-10\n",
      "epoach: 415 loss 7.568303206362259e-10\n",
      "epoach: 416 loss 5.279346959596865e-10\n",
      "epoach: 417 loss 7.61389173931093e-10\n",
      "epoach: 418 loss 9.345114682091094e-10\n",
      "epoach: 419 loss 6.574424338268159e-10\n",
      "epoach: 420 loss 9.035492354314556e-10\n",
      "epoach: 421 loss 4.685915544477837e-10\n",
      "epoach: 422 loss 1.1157424983920805e-09\n",
      "epoach: 423 loss 9.80500680647367e-10\n",
      "epoach: 424 loss 8.1996065492973e-10\n",
      "epoach: 425 loss 6.675833219560445e-10\n",
      "epoach: 426 loss 8.634558068543186e-10\n",
      "epoach: 427 loss 6.066770419366208e-10\n",
      "epoach: 428 loss 6.071648184224898e-10\n"
     ]
    },
    {
     "name": "stderr",
     "output_type": "stream",
     "text": [
      "\r",
      " 44%|█████████████████████████████████████████████████████▉                                                                     | 439/1000 [00:04<00:05, 108.63it/s]"
     ]
    },
    {
     "name": "stdout",
     "output_type": "stream",
     "text": [
      "epoach: 429 loss 5.295376359626403e-10\n",
      "epoach: 430 loss 6.80611844661172e-10\n",
      "epoach: 431 loss 4.984613832803575e-10\n",
      "epoach: 432 loss 9.531987421596e-10\n",
      "epoach: 433 loss 6.084676096307362e-10\n",
      "epoach: 434 loss 5.72781266861e-10\n",
      "epoach: 435 loss 7.487841457987088e-10\n",
      "epoach: 436 loss 4.759073135573999e-10\n",
      "epoach: 437 loss 5.779128287031199e-10\n",
      "epoach: 438 loss 9.584780746862975e-10\n",
      "epoach: 439 loss 7.293252113349524e-10\n",
      "epoach: 440 loss 4.680089094044604e-10\n",
      "epoach: 441 loss 5.40070765886469e-10\n",
      "epoach: 442 loss 6.591250323317865e-10\n",
      "epoach: 443 loss 5.76129366436362e-10\n",
      "epoach: 444 loss 9.901768294184876e-10\n",
      "epoach: 445 loss 6.158685783574924e-10\n",
      "epoach: 446 loss 6.271960728554404e-10\n",
      "epoach: 447 loss 9.83455095138197e-10\n",
      "epoach: 448 loss 5.51903078793714e-10\n",
      "epoach: 449 loss 5.482760911945661e-10\n"
     ]
    },
    {
     "name": "stderr",
     "output_type": "stream",
     "text": [
      " 46%|████████████████████████████████████████████████████████▉                                                                  | 463/1000 [00:04<00:04, 109.53it/s]"
     ]
    },
    {
     "name": "stdout",
     "output_type": "stream",
     "text": [
      "epoach: 450 loss 7.36312677496187e-10\n",
      "epoach: 451 loss 7.174406624343987e-10\n",
      "epoach: 452 loss 6.771614380340907e-10\n",
      "epoach: 453 loss 9.123454214332583e-10\n",
      "epoach: 454 loss 1.0606016065395352e-09\n",
      "epoach: 455 loss 7.87174769811827e-10\n",
      "epoach: 456 loss 6.759847681614417e-10\n",
      "epoach: 457 loss 7.004444801950171e-10\n",
      "epoach: 458 loss 4.623402216630268e-10\n",
      "epoach: 459 loss 7.650541311576831e-10\n",
      "epoach: 460 loss 7.320295480894856e-10\n",
      "epoach: 461 loss 4.403730713420373e-10\n",
      "epoach: 462 loss 6.353815251713968e-10\n",
      "epoach: 463 loss 8.145192853525884e-10\n",
      "epoach: 464 loss 5.919858492298147e-10\n",
      "epoach: 465 loss 6.584673917231498e-10\n",
      "epoach: 466 loss 8.497252901307206e-10\n",
      "epoach: 467 loss 8.308035370774292e-10\n",
      "epoach: 468 loss 8.843329402097311e-10\n",
      "epoach: 469 loss 7.011749514340693e-10\n",
      "epoach: 470 loss 6.977657340812016e-10\n"
     ]
    },
    {
     "name": "stderr",
     "output_type": "stream",
     "text": [
      " 49%|███████████████████████████████████████████████████████████▊                                                               | 486/1000 [00:05<00:04, 109.51it/s]"
     ]
    },
    {
     "name": "stdout",
     "output_type": "stream",
     "text": [
      "epoach: 471 loss 9.380201060338322e-10\n",
      "epoach: 472 loss 7.111182753760659e-10\n",
      "epoach: 473 loss 9.997436212216826e-10\n",
      "epoach: 474 loss 6.942528218978339e-10\n",
      "epoach: 475 loss 6.873197011536547e-10\n",
      "epoach: 476 loss 8.602952794589669e-10\n",
      "epoach: 477 loss 7.74619479670946e-10\n",
      "epoach: 478 loss 7.591410278173782e-10\n",
      "epoach: 479 loss 6.955162001887061e-10\n",
      "epoach: 480 loss 4.675740905568659e-10\n",
      "epoach: 481 loss 6.246239081519889e-10\n",
      "epoach: 482 loss 6.21257378874418e-10\n",
      "epoach: 483 loss 5.181718387703427e-10\n",
      "epoach: 484 loss 5.139682568433557e-10\n",
      "epoach: 485 loss 5.566221372710345e-10\n",
      "epoach: 486 loss 7.429079573739727e-10\n",
      "epoach: 487 loss 7.282466296665291e-10\n",
      "epoach: 488 loss 9.569192105374213e-10\n",
      "epoach: 489 loss 8.513737492776841e-10\n",
      "epoach: 490 loss 9.996767857956002e-10\n",
      "epoach: 491 loss 6.091177562339567e-10\n",
      "epoach: 492 loss 7.723698902672993e-10\n"
     ]
    },
    {
     "name": "stderr",
     "output_type": "stream",
     "text": [
      " 51%|██████████████████████████████████████████████████████████████▌                                                            | 509/1000 [00:05<00:04, 109.63it/s]"
     ]
    },
    {
     "name": "stdout",
     "output_type": "stream",
     "text": [
      "epoach: 493 loss 8.575412602240817e-10\n",
      "epoach: 494 loss 6.562913545948845e-10\n",
      "epoach: 495 loss 5.474348196976564e-10\n",
      "epoach: 496 loss 6.936062280082922e-10\n",
      "epoach: 497 loss 7.043553518215617e-10\n",
      "epoach: 498 loss 7.887550057539272e-10\n",
      "epoach: 499 loss 6.039474476082773e-10\n",
      "epoach: 500 loss 3.923307789754915e-10\n",
      "epoach: 501 loss 7.065793505844908e-10\n",
      "epoach: 502 loss 5.990827278701261e-10\n",
      "epoach: 503 loss 5.919673640164547e-10\n",
      "epoach: 504 loss 9.744652862408998e-10\n",
      "epoach: 505 loss 6.05494654415395e-10\n",
      "epoach: 506 loss 8.416648489273371e-10\n",
      "epoach: 507 loss 5.539874115001453e-10\n",
      "epoach: 508 loss 8.814538543511219e-10\n",
      "epoach: 509 loss 6.825970899626554e-10\n",
      "epoach: 510 loss 4.296538125281302e-10\n",
      "epoach: 511 loss 6.439922484169358e-10\n",
      "epoach: 512 loss 8.645841265142451e-10\n"
     ]
    },
    {
     "name": "stderr",
     "output_type": "stream",
     "text": [
      " 53%|█████████████████████████████████████████████████████████████████▎                                                         | 531/1000 [00:05<00:04, 107.17it/s]"
     ]
    },
    {
     "name": "stdout",
     "output_type": "stream",
     "text": [
      "epoach: 513 loss 5.129777713719363e-10\n",
      "epoach: 514 loss 6.71241173755277e-10\n",
      "epoach: 515 loss 8.268642437414542e-10\n",
      "epoach: 516 loss 6.799197871387719e-10\n",
      "epoach: 517 loss 9.396714517606597e-10\n",
      "epoach: 518 loss 7.56108786692522e-10\n",
      "epoach: 519 loss 8.285979680167088e-10\n",
      "epoach: 520 loss 6.630344051572479e-10\n",
      "epoach: 521 loss 1.0872838185349565e-09\n",
      "epoach: 522 loss 8.394138717449096e-10\n",
      "epoach: 523 loss 1.0183314191891668e-09\n",
      "epoach: 524 loss 8.191435307836059e-10\n",
      "epoach: 525 loss 7.773593435622672e-10\n",
      "epoach: 526 loss 9.084118457458601e-10\n",
      "epoach: 527 loss 9.469431905273495e-10\n",
      "epoach: 528 loss 5.953552095760983e-10\n",
      "epoach: 529 loss 3.576033635876996e-10\n",
      "epoach: 530 loss 7.131862878040351e-10\n",
      "epoach: 531 loss 5.173191874874306e-10\n",
      "epoach: 532 loss 7.63240859402714e-10\n"
     ]
    },
    {
     "name": "stderr",
     "output_type": "stream",
     "text": [
      " 55%|████████████████████████████████████████████████████████████████████                                                       | 553/1000 [00:05<00:04, 105.87it/s]"
     ]
    },
    {
     "name": "stdout",
     "output_type": "stream",
     "text": [
      "epoach: 533 loss 5.34956245967777e-10\n",
      "epoach: 534 loss 7.571600013633883e-10\n",
      "epoach: 535 loss 4.826716804018361e-10\n",
      "epoach: 536 loss 7.343174956986331e-10\n",
      "epoach: 537 loss 9.896851116408811e-10\n",
      "epoach: 538 loss 6.283869535828046e-10\n",
      "epoach: 539 loss 6.973309152336071e-10\n",
      "epoach: 540 loss 7.348674446738812e-10\n",
      "epoach: 541 loss 8.776556148504255e-10\n",
      "epoach: 542 loss 5.879485232007653e-10\n",
      "epoach: 543 loss 7.658201295335232e-10\n",
      "epoach: 544 loss 6.654573558861898e-10\n",
      "epoach: 545 loss 6.104400318562853e-10\n",
      "epoach: 546 loss 7.662535606023368e-10\n",
      "epoach: 547 loss 5.756252141608798e-10\n",
      "epoach: 548 loss 6.788060114004679e-10\n",
      "epoach: 549 loss 5.772790023783614e-10\n",
      "epoach: 550 loss 7.528943024581736e-10\n",
      "epoach: 551 loss 7.317453309951816e-10\n",
      "epoach: 552 loss 8.387956995647983e-10\n"
     ]
    },
    {
     "name": "stderr",
     "output_type": "stream",
     "text": [
      "\r",
      " 56%|█████████████████████████████████████████████████████████████████████▎                                                     | 564/1000 [00:05<00:04, 103.85it/s]"
     ]
    },
    {
     "name": "stdout",
     "output_type": "stream",
     "text": [
      "epoach: 553 loss 5.337937869498433e-10\n",
      "epoach: 554 loss 5.161854832458346e-10\n",
      "epoach: 555 loss 6.176932854096151e-10\n",
      "epoach: 556 loss 6.463153345848127e-10\n",
      "epoach: 557 loss 5.008430892239346e-10\n",
      "epoach: 558 loss 8.058606004723856e-10\n",
      "epoach: 559 loss 5.624503640611067e-10\n",
      "epoach: 560 loss 6.648747108428665e-10\n",
      "epoach: 561 loss 7.012687097684989e-10\n",
      "epoach: 562 loss 7.91821719303698e-10\n",
      "epoach: 563 loss 7.918657951577757e-10\n",
      "epoach: 564 loss 8.038298915380437e-10\n",
      "epoach: 565 loss 7.004061219895164e-10\n",
      "epoach: 566 loss 7.884438102401248e-10\n",
      "epoach: 567 loss 1.0329841426681696e-09\n",
      "epoach: 568 loss 6.748052672200799e-10\n",
      "epoach: 569 loss 5.764831945143101e-10\n",
      "epoach: 570 loss 5.0233384119025e-10\n",
      "epoach: 571 loss 5.425789817437021e-10\n",
      "epoach: 572 loss 8.918377147892897e-10\n"
     ]
    },
    {
     "name": "stderr",
     "output_type": "stream",
     "text": [
      " 59%|████████████████████████████████████████████████████████████████████████                                                   | 586/1000 [00:06<00:04, 103.17it/s]"
     ]
    },
    {
     "name": "stdout",
     "output_type": "stream",
     "text": [
      "epoach: 573 loss 8.553996400095798e-10\n",
      "epoach: 574 loss 5.540670144910109e-10\n",
      "epoach: 575 loss 9.493078545474987e-10\n",
      "epoach: 576 loss 6.6659711084327e-10\n",
      "epoach: 577 loss 8.691316000231097e-10\n",
      "epoach: 578 loss 7.806463253601237e-10\n",
      "epoach: 579 loss 4.941568820804321e-10\n",
      "epoach: 580 loss 9.199794814840345e-10\n",
      "epoach: 581 loss 1.0602334565845695e-09\n",
      "epoach: 582 loss 6.239758709725152e-10\n",
      "epoach: 583 loss 5.835705252366097e-10\n",
      "epoach: 584 loss 5.138162118001333e-10\n",
      "epoach: 585 loss 1.0150603690917137e-09\n",
      "epoach: 586 loss 6.118028861301639e-10\n",
      "epoach: 587 loss 4.2368525354774533e-10\n",
      "epoach: 588 loss 8.481052526931876e-10\n",
      "epoach: 589 loss 6.418403586394561e-10\n",
      "epoach: 590 loss 6.690384912744207e-10\n",
      "epoach: 591 loss 8.584279953538498e-10\n"
     ]
    },
    {
     "name": "stderr",
     "output_type": "stream",
     "text": [
      " 61%|██████████████████████████████████████████████████████████████████████████▊                                                | 608/1000 [00:06<00:03, 102.43it/s]"
     ]
    },
    {
     "name": "stdout",
     "output_type": "stream",
     "text": [
      "epoach: 592 loss 7.347299435522814e-10\n",
      "epoach: 593 loss 5.47247247517646e-10\n",
      "epoach: 594 loss 5.347914333597714e-10\n",
      "epoach: 595 loss 6.856225587270615e-10\n",
      "epoach: 596 loss 7.442565452819849e-10\n",
      "epoach: 597 loss 5.912624834181202e-10\n",
      "epoach: 598 loss 6.121510520706863e-10\n",
      "epoach: 599 loss 6.03982641678158e-10\n",
      "epoach: 600 loss 6.080270731345649e-10\n",
      "epoach: 601 loss 7.402548019008748e-10\n",
      "epoach: 602 loss 5.596717533862261e-10\n",
      "epoach: 603 loss 7.381600886091633e-10\n",
      "epoach: 604 loss 4.753388793687918e-10\n",
      "epoach: 605 loss 4.120820906727829e-10\n",
      "epoach: 606 loss 7.151371161917552e-10\n",
      "epoach: 607 loss 7.535589929830167e-10\n",
      "epoach: 608 loss 7.56028850634749e-10\n",
      "epoach: 609 loss 7.140513735848231e-10\n",
      "epoach: 610 loss 7.516959277253932e-10\n"
     ]
    },
    {
     "name": "stderr",
     "output_type": "stream",
     "text": [
      " 63%|█████████████████████████████████████████████████████████████████████████████▍                                             | 630/1000 [00:06<00:03, 104.74it/s]"
     ]
    },
    {
     "name": "stdout",
     "output_type": "stream",
     "text": [
      "epoach: 611 loss 7.337362939452419e-10\n",
      "epoach: 612 loss 9.198942163557433e-10\n",
      "epoach: 613 loss 6.728459456262215e-10\n",
      "epoach: 614 loss 9.6210617250847e-10\n",
      "epoach: 615 loss 4.948802478921266e-10\n",
      "epoach: 616 loss 6.960135801037381e-10\n",
      "epoach: 617 loss 7.17813031236858e-10\n",
      "epoach: 618 loss 5.286011628413689e-10\n",
      "epoach: 619 loss 5.098271804726551e-10\n",
      "epoach: 620 loss 5.635811817228387e-10\n",
      "epoach: 621 loss 7.741988161669155e-10\n",
      "epoach: 622 loss 9.075492579668776e-10\n",
      "epoach: 623 loss 7.733916840280131e-10\n",
      "epoach: 624 loss 4.390603436377205e-10\n",
      "epoach: 625 loss 6.867210688987768e-10\n",
      "epoach: 626 loss 5.265349267702391e-10\n",
      "epoach: 627 loss 6.299600840975472e-10\n",
      "epoach: 628 loss 6.773049898711747e-10\n",
      "epoach: 629 loss 7.967916326734326e-10\n",
      "epoach: 630 loss 5.158767857338376e-10\n"
     ]
    },
    {
     "name": "stderr",
     "output_type": "stream",
     "text": [
      " 65%|████████████████████████████████████████████████████████████████████████████████▏                                          | 652/1000 [00:06<00:03, 106.14it/s]"
     ]
    },
    {
     "name": "stdout",
     "output_type": "stream",
     "text": [
      "epoach: 631 loss 4.1393377614440396e-10\n",
      "epoach: 632 loss 7.764953124933527e-10\n",
      "epoach: 633 loss 6.875310876175433e-10\n",
      "epoach: 634 loss 7.678266911170795e-10\n",
      "epoach: 635 loss 8.475666279927907e-10\n",
      "epoach: 636 loss 4.4929321374453934e-10\n",
      "epoach: 637 loss 8.405791618315561e-10\n",
      "epoach: 638 loss 5.252857593340821e-10\n",
      "epoach: 639 loss 4.143618781426994e-10\n",
      "epoach: 640 loss 8.591271583036075e-10\n",
      "epoach: 641 loss 6.090392079549645e-10\n",
      "epoach: 642 loss 8.518284966285705e-10\n",
      "epoach: 643 loss 5.904755573382658e-10\n",
      "epoach: 644 loss 6.923698836480696e-10\n",
      "epoach: 645 loss 6.880512271045802e-10\n",
      "epoach: 646 loss 7.519730393923396e-10\n",
      "epoach: 647 loss 7.466610663087181e-10\n",
      "epoach: 648 loss 4.872248160481263e-10\n",
      "epoach: 649 loss 7.0662620199613e-10\n",
      "epoach: 650 loss 6.50676679203599e-10\n",
      "epoach: 651 loss 4.646110995931707e-10\n"
     ]
    },
    {
     "name": "stderr",
     "output_type": "stream",
     "text": [
      "\r",
      " 66%|█████████████████████████████████████████████████████████████████████████████████▌                                         | 663/1000 [00:06<00:03, 106.11it/s]"
     ]
    },
    {
     "name": "stdout",
     "output_type": "stream",
     "text": [
      "epoach: 652 loss 5.466634922512981e-10\n",
      "epoach: 653 loss 7.974279014888452e-10\n",
      "epoach: 654 loss 6.588877221602729e-10\n",
      "epoach: 655 loss 5.448299589261296e-10\n",
      "epoach: 656 loss 8.632554115983737e-10\n",
      "epoach: 657 loss 5.712355033438143e-10\n",
      "epoach: 658 loss 3.5441302670413677e-10\n",
      "epoach: 659 loss 6.831953891506259e-10\n",
      "epoach: 660 loss 6.903221327902997e-10\n",
      "epoach: 661 loss 9.177923976366742e-10\n",
      "epoach: 662 loss 1.0368352842959894e-09\n",
      "epoach: 663 loss 7.469210805410853e-10\n",
      "epoach: 664 loss 7.901903020801626e-10\n",
      "epoach: 665 loss 5.654697821100285e-10\n",
      "epoach: 666 loss 5.962348947896601e-10\n",
      "epoach: 667 loss 7.343857189034964e-10\n",
      "epoach: 668 loss 6.589448986460411e-10\n",
      "epoach: 669 loss 4.5200607146078653e-10\n",
      "epoach: 670 loss 6.775621730348291e-10\n",
      "epoach: 671 loss 7.900794463111538e-10\n",
      "epoach: 672 loss 6.826823550909467e-10\n",
      "epoach: 673 loss 5.421824655904572e-10\n"
     ]
    },
    {
     "name": "stderr",
     "output_type": "stream",
     "text": [
      " 69%|████████████████████████████████████████████████████████████████████████████████████▍                                      | 686/1000 [00:06<00:02, 107.64it/s]"
     ]
    },
    {
     "name": "stdout",
     "output_type": "stream",
     "text": [
      "epoach: 674 loss 9.083080954042089e-10\n",
      "epoach: 675 loss 5.094477617539894e-10\n",
      "epoach: 676 loss 5.495536248290023e-10\n",
      "epoach: 677 loss 5.62897617406577e-10\n",
      "epoach: 678 loss 1.075186162324826e-09\n",
      "epoach: 679 loss 7.199517648714959e-10\n",
      "epoach: 680 loss 8.108287374852807e-10\n",
      "epoach: 681 loss 5.224947696724769e-10\n",
      "epoach: 682 loss 5.444448225588872e-10\n",
      "epoach: 683 loss 7.25880522356448e-10\n",
      "epoach: 684 loss 5.725538931855567e-10\n",
      "epoach: 685 loss 7.309324812077023e-10\n",
      "epoach: 686 loss 1.121648551816179e-09\n",
      "epoach: 687 loss 4.243179974050548e-10\n",
      "epoach: 688 loss 5.172665629160633e-10\n",
      "epoach: 689 loss 5.861412466501292e-10\n",
      "epoach: 690 loss 7.34695526638518e-10\n",
      "epoach: 691 loss 5.14779663340903e-10\n",
      "epoach: 692 loss 6.288288778577567e-10\n",
      "epoach: 693 loss 3.597861453208395e-10\n",
      "epoach: 694 loss 8.229378289925648e-10\n",
      "epoach: 695 loss 9.944958190288844e-10\n"
     ]
    },
    {
     "name": "stderr",
     "output_type": "stream",
     "text": [
      " 71%|███████████████████████████████████████████████████████████████████████████████████████▏                                   | 709/1000 [00:07<00:02, 107.76it/s]"
     ]
    },
    {
     "name": "stdout",
     "output_type": "stream",
     "text": [
      "epoach: 696 loss 6.834017796109038e-10\n",
      "epoach: 697 loss 5.426031290944877e-10\n",
      "epoach: 698 loss 4.846629764188037e-10\n",
      "epoach: 699 loss 4.070617731777304e-10\n",
      "epoach: 700 loss 5.754159926318891e-10\n",
      "epoach: 701 loss 8.56653414871289e-10\n",
      "epoach: 702 loss 8.313690846861732e-10\n",
      "epoach: 703 loss 5.270311964622465e-10\n",
      "epoach: 704 loss 7.147548108932256e-10\n",
      "epoach: 705 loss 5.485787935022302e-10\n",
      "epoach: 706 loss 3.971195039476072e-10\n",
      "epoach: 707 loss 4.189544822175151e-10\n",
      "epoach: 708 loss 6.242600880668192e-10\n",
      "epoach: 709 loss 4.140332521274104e-10\n",
      "epoach: 710 loss 9.795840805182365e-10\n",
      "epoach: 711 loss 6.260876261876547e-10\n",
      "epoach: 712 loss 8.675371532262943e-10\n",
      "epoach: 713 loss 5.912841882782516e-10\n",
      "epoach: 714 loss 6.261373641791579e-10\n",
      "epoach: "
     ]
    },
    {
     "name": "stderr",
     "output_type": "stream",
     "text": [
      " 73%|█████████████████████████████████████████████████████████████████████████████████████████▉                                 | 731/1000 [00:07<00:02, 107.24it/s]"
     ]
    },
    {
     "name": "stdout",
     "output_type": "stream",
     "text": [
      "715 loss 6.617796310948165e-10\n",
      "epoach: 716 loss 3.220193833808338e-10\n",
      "epoach: 717 loss 5.44753242515128e-10\n",
      "epoach: 718 loss 4.940687858834281e-10\n",
      "epoach: 719 loss 4.908898287858676e-10\n",
      "epoach: 720 loss 5.835559813149871e-10\n",
      "epoach: 721 loss 6.32527974442354e-10\n",
      "epoach: 722 loss 7.516547384511796e-10\n",
      "epoach: 723 loss 6.041986355675988e-10\n",
      "epoach: 724 loss 6.72419286917858e-10\n",
      "epoach: 725 loss 6.126611995505016e-10\n",
      "epoach: 726 loss 5.995161589389397e-10\n",
      "epoach: 727 loss 9.262876576876522e-10\n",
      "epoach: 728 loss 7.785999622811346e-10\n",
      "epoach: 729 loss 7.36135041812247e-10\n",
      "epoach: 730 loss 5.173149131287857e-10\n",
      "epoach: 731 loss 8.671364182255559e-10\n",
      "epoach: 732 loss 7.708536031714175e-10\n",
      "epoach: 733 loss 7.56152473968541e-10\n",
      "epoach: 734 loss 4.517673457549165e-10\n",
      "epoach: 735 loss 7.452840011801243e-10\n"
     ]
    },
    {
     "name": "stderr",
     "output_type": "stream",
     "text": [
      " 75%|████████████████████████████████████████████████████████████████████████████████████████████▌                              | 753/1000 [00:07<00:02, 107.07it/s]"
     ]
    },
    {
     "name": "stdout",
     "output_type": "stream",
     "text": [
      "epoach: 736 loss 5.591687113337684e-10\n",
      "epoach: 737 loss 5.522338142327499e-10\n",
      "epoach: 738 loss 5.038359174314166e-10\n",
      "epoach: 739 loss 5.562512117585072e-10\n",
      "epoach: 740 loss 5.812267889204747e-10\n",
      "epoach: 741 loss 5.115907697472721e-10\n",
      "epoach: 742 loss 3.638533085936757e-10\n",
      "epoach: 743 loss 6.060972279620103e-10\n",
      "epoach: 744 loss 8.163340003974895e-10\n",
      "epoach: 745 loss 4.919858409557776e-10\n",
      "epoach: 746 loss 6.658470996789845e-10\n",
      "epoach: 747 loss 8.161947784302015e-10\n",
      "epoach: 748 loss 5.672731728800784e-10\n",
      "epoach: 749 loss 4.975063694345749e-10\n",
      "epoach: 750 loss 7.607710017509817e-10\n",
      "epoach: 751 loss 4.1526676541892016e-10\n",
      "epoach: 752 loss 6.291106524614065e-10\n",
      "epoach: 753 loss 9.522835853204015e-10\n",
      "epoach: 754 loss 6.564832011335398e-10\n",
      "epoach: 755 loss 7.656836831237968e-10\n"
     ]
    },
    {
     "name": "stderr",
     "output_type": "stream",
     "text": [
      " 78%|███████████████████████████████████████████████████████████████████████████████████████████████▎                           | 775/1000 [00:07<00:02, 106.98it/s]"
     ]
    },
    {
     "name": "stdout",
     "output_type": "stream",
     "text": [
      "epoach: 756 loss 3.3216912553868383e-10\n",
      "epoach: 757 loss 6.812427844060664e-10\n",
      "epoach: 758 loss 6.988017386966305e-10\n",
      "epoach: 759 loss 5.316046491898874e-10\n",
      "epoach: 760 loss 5.80357428781042e-10\n",
      "epoach: 761 loss 6.417451570150945e-10\n",
      "epoach: 762 loss 6.332712132461893e-10\n",
      "epoach: 763 loss 3.8605635355182244e-10\n",
      "epoach: 764 loss 4.544929710359469e-10\n",
      "epoach: 765 loss 4.495220307099146e-10\n",
      "epoach: 766 loss 5.05109176707208e-10\n",
      "epoach: 767 loss 7.17706449826494e-10\n",
      "epoach: 768 loss 8.083560487648356e-10\n",
      "epoach: 769 loss 5.222915433478192e-10\n",
      "epoach: 770 loss 5.324977681020471e-10\n",
      "epoach: 771 loss 7.452555794706939e-10\n",
      "epoach: 772 loss 7.542680924288447e-10\n",
      "epoach: 773 loss 8.229434911299904e-10\n",
      "epoach: 774 loss 7.380222544206561e-10\n",
      "epoach: 775 loss 7.319769790292696e-10\n"
     ]
    },
    {
     "name": "stderr",
     "output_type": "stream",
     "text": [
      "\r",
      " 79%|████████████████████████████████████████████████████████████████████████████████████████████████▋                          | 786/1000 [00:07<00:01, 107.64it/s]"
     ]
    },
    {
     "name": "stdout",
     "output_type": "stream",
     "text": [
      "epoach: 776 loss 8.273733920205473e-10\n",
      "epoach: 777 loss 6.813152819695745e-10\n",
      "epoach: 778 loss 5.821164106301069e-10\n",
      "epoach: 779 loss 5.486328058523782e-10\n",
      "epoach: 780 loss 4.791846919260934e-10\n",
      "epoach: 781 loss 7.436625759638105e-10\n",
      "epoach: 782 loss 5.627374122241235e-10\n",
      "epoach: 783 loss 5.922217161113963e-10\n",
      "epoach: 784 loss 6.461163826187999e-10\n",
      "epoach: 785 loss 6.656790674242075e-10\n",
      "epoach: 786 loss 7.238913357632271e-10\n",
      "epoach: 787 loss 4.762569227878544e-10\n",
      "epoach: 788 loss 6.794280693611654e-10\n",
      "epoach: 789 loss 5.003215619581169e-10\n",
      "epoach: 790 loss 8.539885465452812e-10\n",
      "epoach: 791 loss 8.82145911873522e-10\n",
      "epoach: 792 loss 6.784091621803157e-10\n",
      "epoach: 793 loss 4.689287291803623e-10\n",
      "epoach: 794 loss 7.158348358515809e-10\n",
      "epoach: 795 loss 4.83456108479885e-10\n",
      "epoach: 796 loss 7.15970227549434e-10\n"
     ]
    },
    {
     "name": "stderr",
     "output_type": "stream",
     "text": [
      " 81%|███████████████████████████████████████████████████████████████████████████████████████████████████▋                       | 810/1000 [00:08<00:01, 109.39it/s]"
     ]
    },
    {
     "name": "stdout",
     "output_type": "stream",
     "text": [
      "epoach: 797 loss 4.1793130067802053e-10\n",
      "epoach: 798 loss 7.151868541832584e-10\n",
      "epoach: 799 loss 5.78675940499096e-10\n",
      "epoach: 800 loss 6.9935490731865e-10\n",
      "epoach: 801 loss 5.997776719723902e-10\n",
      "epoach: 802 loss 8.398828299505112e-10\n",
      "epoach: 803 loss 8.689042263476665e-10\n",
      "epoach: 804 loss 5.944443270955446e-10\n",
      "epoach: 805 loss 5.185739615498619e-10\n",
      "epoach: 806 loss 3.9897579684478046e-10\n",
      "epoach: 807 loss 5.929081114963708e-10\n",
      "epoach: 808 loss 5.878931230718365e-10\n",
      "epoach: 809 loss 6.008846753502439e-10\n",
      "epoach: 810 loss 5.657287971416736e-10\n",
      "epoach: 811 loss 6.799026897041927e-10\n",
      "epoach: 812 loss 6.389342388501973e-10\n",
      "epoach: 813 loss 6.573060429282407e-10\n",
      "epoach: 814 loss 6.37979280515566e-10\n",
      "epoach: 815 loss 4.503519224208219e-10\n",
      "epoach: 816 loss 5.654158252710317e-10\n",
      "epoach: 817 loss 7.172872296123955e-10\n"
     ]
    },
    {
     "name": "stderr",
     "output_type": "stream",
     "text": [
      " 83%|██████████████████████████████████████████████████████████████████████████████████████████████████████▍                    | 833/1000 [00:08<00:01, 109.24it/s]"
     ]
    },
    {
     "name": "stdout",
     "output_type": "stream",
     "text": [
      "epoach: 818 loss 8.987129374027347e-10\n",
      "epoach: 819 loss 6.419416109793019e-10\n",
      "epoach: 820 loss 8.622763059129568e-10\n",
      "epoach: 821 loss 6.821935238932042e-10\n",
      "epoach: 822 loss 9.141629675468721e-10\n",
      "epoach: 823 loss 5.494626975632855e-10\n",
      "epoach: 824 loss 6.223828674656318e-10\n",
      "epoach: 825 loss 4.4489639750011634e-10\n",
      "epoach: 826 loss 6.747754577318688e-10\n",
      "epoach: 827 loss 5.945299252907432e-10\n",
      "epoach: 828 loss 9.104397236114892e-10\n",
      "epoach: 829 loss 5.927915935899364e-10\n",
      "epoach: 830 loss 6.22821960671871e-10\n",
      "epoach: 831 loss 7.765820209115759e-10\n",
      "epoach: 832 loss 5.635769073641939e-10\n",
      "epoach: 833 loss 3.8841568850145336e-10\n",
      "epoach: 834 loss 5.41992062341734e-10\n",
      "epoach: 835 loss 6.273637720433101e-10\n",
      "epoach: 836 loss 6.558910081722047e-10\n",
      "epoach: 837 loss 5.907637157243073e-10\n",
      "epoach: 838 loss 5.428916205474366e-10\n",
      "epoach: 839 loss 4.6355949634424576e-10\n"
     ]
    },
    {
     "name": "stderr",
     "output_type": "stream",
     "text": [
      " 86%|█████████████████████████████████████████████████████████████████████████████████████████████████████████▏                 | 855/1000 [00:08<00:01, 109.22it/s]"
     ]
    },
    {
     "name": "stdout",
     "output_type": "stream",
     "text": [
      "epoach: 840 loss 6.443642286413365e-10\n",
      "epoach: 841 loss 5.133774516608014e-10\n",
      "epoach: 842 loss 7.038522542579528e-10\n",
      "epoach: 843 loss 4.995612812308536e-10\n",
      "epoach: 844 loss 5.65694324716759e-10\n",
      "epoach: 845 loss 7.11989411872338e-10\n",
      "epoach: 846 loss 6.890800707815004e-10\n",
      "epoach: 847 loss 6.344947900416287e-10\n",
      "epoach: 848 loss 6.594774726309538e-10\n",
      "epoach: 849 loss 6.028741950103722e-10\n",
      "epoach: 850 loss 9.929920219420296e-10\n",
      "epoach: 851 loss 6.581075129297176e-10\n",
      "epoach: 852 loss 6.604281566069403e-10\n",
      "epoach: 853 loss 5.898929122949426e-10\n",
      "epoach: 854 loss 4.990312052477464e-10\n",
      "epoach: 855 loss 5.893824317482199e-10\n",
      "epoach: 856 loss 4.04209277160561e-10\n",
      "epoach: 857 loss 5.985967277410964e-10\n",
      "epoach: 858 loss 9.560963132315692e-10\n",
      "epoach: 859 loss 7.832767212612168e-10\n",
      "epoach: 860 loss 6.038007316355731e-10\n",
      "epoach: 861 loss 5.302524530570452e-10\n"
     ]
    },
    {
     "name": "stderr",
     "output_type": "stream",
     "text": [
      " 88%|████████████████████████████████████████████████████████████████████████████████████████████████████████████               | 879/1000 [00:08<00:01, 109.83it/s]"
     ]
    },
    {
     "name": "stdout",
     "output_type": "stream",
     "text": [
      "epoach: 862 loss 8.011994401257994e-10\n",
      "epoach: 863 loss 7.561912207521004e-10\n",
      "epoach: 864 loss 8.654907901473052e-10\n",
      "epoach: 865 loss 5.410232262192949e-10\n",
      "epoach: 866 loss 6.301590360635601e-10\n",
      "epoach: 867 loss 7.113289401949885e-10\n",
      "epoach: 868 loss 8.556725328290327e-10\n",
      "epoach: 869 loss 5.665757862871601e-10\n",
      "epoach: 870 loss 5.348897991197532e-10\n",
      "epoach: 871 loss 5.330321184437992e-10\n",
      "epoach: 872 loss 7.330257512094818e-10\n",
      "epoach: 873 loss 5.131923219714452e-10\n",
      "epoach: 874 loss 5.406722292100596e-10\n",
      "epoach: 875 loss 7.752437025665415e-10\n",
      "epoach: 876 loss 6.707736588396074e-10\n",
      "epoach: 877 loss 7.121044864888404e-10\n",
      "epoach: 878 loss 8.028166464946196e-10\n",
      "epoach: 879 loss 6.336406954687845e-10\n",
      "epoach: 880 loss 6.18724960155248e-10\n",
      "epoach: 881 loss 5.121378876538074e-10\n",
      "epoach: 882 loss 7.489148745598584e-10\n"
     ]
    },
    {
     "name": "stderr",
     "output_type": "stream",
     "text": [
      " 90%|███████████████████████████████████████████████████████████████████████████████████████████████████████████████            | 903/1000 [00:08<00:00, 110.64it/s]"
     ]
    },
    {
     "name": "stdout",
     "output_type": "stream",
     "text": [
      "epoach: 883 loss 7.374509891633352e-10\n",
      "epoach: 884 loss 6.959510190363005e-10\n",
      "epoach: 885 loss 6.233534799449103e-10\n",
      "epoach: 886 loss 3.610825527466943e-10\n",
      "epoach: 887 loss 9.825857905099156e-10\n",
      "epoach: 888 loss 6.507335226224598e-10\n",
      "epoach: 889 loss 6.762974069651762e-10\n",
      "epoach: 890 loss 6.586432510502505e-10\n",
      "epoach: 891 loss 5.195762153853423e-10\n",
      "epoach: 892 loss 7.594962991852583e-10\n",
      "epoach: 893 loss 6.670234364847261e-10\n",
      "epoach: 894 loss 3.808665327564853e-10\n",
      "epoach: 895 loss 6.102652827522093e-10\n",
      "epoach: 896 loss 7.083901243376545e-10\n",
      "epoach: 897 loss 5.392976620832712e-10\n",
      "epoach: 898 loss 6.123460627449617e-10\n",
      "epoach: 899 loss 8.032046139305749e-10\n",
      "epoach: 900 loss 7.740851293291939e-10\n",
      "epoach: 901 loss 4.701973810306015e-10\n",
      "epoach: 902 loss 8.095114023554117e-10\n",
      "epoach: 903 loss 5.689315685231122e-10\n",
      "epoach: 904 loss 4.4921363850924934e-10\n"
     ]
    },
    {
     "name": "stderr",
     "output_type": "stream",
     "text": [
      "\r",
      " 92%|████████████████████████████████████████████████████████████████████████████████████████████████████████████████▌          | 915/1000 [00:09<00:00, 110.58it/s]"
     ]
    },
    {
     "name": "stdout",
     "output_type": "stream",
     "text": [
      "epoach: 905 loss 4.812836240652985e-10\n",
      "epoach: 906 loss 7.069999585773701e-10\n",
      "epoach: 907 loss 8.786699146057231e-10\n",
      "epoach: 908 loss 7.250207656461782e-10\n",
      "epoach: 909 loss 4.489919547268073e-10\n",
      "epoach: 910 loss 7.035225735307904e-10\n",
      "epoach: 911 loss 4.5291131955949027e-10\n",
      "epoach: 912 loss 7.137287982850182e-10\n",
      "epoach: 913 loss 6.554685683113348e-10\n",
      "epoach: 914 loss 4.939394449010592e-10\n",
      "epoach: 915 loss 6.643318672949761e-10\n",
      "epoach: 916 loss 6.721123102515492e-10\n",
      "epoach: 917 loss 7.380933086942321e-10\n",
      "epoach: 918 loss 5.061373542503134e-10\n",
      "epoach: 919 loss 7.415710823188704e-10\n",
      "epoach: 920 loss 7.551207437117569e-10\n",
      "epoach: 921 loss 5.202352437727598e-10\n",
      "epoach: 922 loss 8.895952308130006e-10\n",
      "epoach: 923 loss 5.57210833029842e-10\n",
      "epoach: 924 loss 5.14789988415032e-10\n",
      "epoach: 925 loss 6.177870437440447e-10\n"
     ]
    },
    {
     "name": "stderr",
     "output_type": "stream",
     "text": [
      " 94%|███████████████████████████████████████████████████████████████████████████████████████████████████████████████████▍       | 939/1000 [00:09<00:00, 110.27it/s]"
     ]
    },
    {
     "name": "stdout",
     "output_type": "stream",
     "text": [
      "epoach: 926 loss 5.208633524489414e-10\n",
      "epoach: 927 loss 8.257245442955252e-10\n",
      "epoach: 928 loss 6.076475989047481e-10\n",
      "epoach: 929 loss 4.3956588369198357e-10\n",
      "epoach: 930 loss 4.872504066888439e-10\n",
      "epoach: 931 loss 6.103064720264229e-10\n",
      "epoach: 932 loss 7.983004257638981e-10\n",
      "epoach: 933 loss 5.764760890869525e-10\n",
      "epoach: 934 loss 5.878618702936933e-10\n",
      "epoach: 935 loss 6.236490213140655e-10\n",
      "epoach: 936 loss 4.389946184346627e-10\n",
      "epoach: 937 loss 4.462776814762037e-10\n",
      "epoach: 938 loss 5.212942855159497e-10\n",
      "epoach: 939 loss 4.6208867288122235e-10\n",
      "epoach: 940 loss 5.183171114531149e-10\n",
      "epoach: 941 loss 5.782702094947467e-10\n",
      "epoach: 942 loss 5.680547698894145e-10\n",
      "epoach: 943 loss 5.74348735238317e-10\n",
      "epoach: 944 loss 7.90414844686893e-10\n",
      "epoach: 945 loss 5.058865548690505e-10\n",
      "epoach: 946 loss 5.883823428476376e-10\n"
     ]
    },
    {
     "name": "stderr",
     "output_type": "stream",
     "text": [
      " 96%|██████████████████████████████████████████████████████████████████████████████████████████████████████████████████████▍    | 963/1000 [00:09<00:00, 110.33it/s]"
     ]
    },
    {
     "name": "stdout",
     "output_type": "stream",
     "text": [
      "epoach: 947 loss 6.747640779458663e-10\n",
      "epoach: 948 loss 6.422993803489874e-10\n",
      "epoach: 949 loss 9.58021884045479e-10\n",
      "epoach: 950 loss 4.175845502718545e-10\n",
      "epoach: 951 loss 6.066997459974743e-10\n",
      "epoach: 952 loss 6.331333790576821e-10\n",
      "epoach: 953 loss 7.22066295644197e-10\n",
      "epoach: 954 loss 5.820354198604605e-10\n",
      "epoach: 955 loss 6.787416739761909e-10\n",
      "epoach: 956 loss 5.940350433775166e-10\n",
      "epoach: 957 loss 7.096460086231104e-10\n",
      "epoach: 958 loss 6.509537908705454e-10\n",
      "epoach: 959 loss 4.99730368197504e-10\n",
      "epoach: 960 loss 6.112756412157694e-10\n",
      "epoach: 961 loss 5.431999849925262e-10\n",
      "epoach: 962 loss 7.601997364936608e-10\n",
      "epoach: 963 loss 4.050093593832571e-10\n",
      "epoach: 964 loss 6.304120003797209e-10\n",
      "epoach: 965 loss 5.271800773698487e-10\n",
      "epoach: 966 loss 7.223789344479314e-10\n",
      "epoach: 967 loss 5.597470820184469e-10\n",
      "epoach: 968 loss 4.481918725041112e-10\n"
     ]
    },
    {
     "name": "stderr",
     "output_type": "stream",
     "text": [
      " 99%|█████████████████████████████████████████████████████████████████████████████████████████████████████████████████████████▎ | 986/1000 [00:09<00:00, 105.65it/s]"
     ]
    },
    {
     "name": "stdout",
     "output_type": "stream",
     "text": [
      "epoach: 969 loss 5.851276685397977e-10\n",
      "epoach: 970 loss 7.73320629754437e-10\n",
      "epoach: 971 loss 7.415493774587389e-10\n",
      "epoach: 972 loss 6.144148523290482e-10\n",
      "epoach: 973 loss 7.607798835351787e-10\n",
      "epoach: 974 loss 6.745864422619263e-10\n",
      "epoach: 975 loss 4.777561679603082e-10\n",
      "epoach: 976 loss 7.057465722937195e-10\n",
      "epoach: 977 loss 5.08137532051478e-10\n",
      "epoach: 978 loss 5.744897890735956e-10\n",
      "epoach: 979 loss 5.773699851552294e-10\n",
      "epoach: 980 loss 5.339249042890515e-10\n",
      "epoach: 981 loss 6.274575303777397e-10\n",
      "epoach: 982 loss 5.824191129377709e-10\n",
      "epoach: 983 loss 7.237076493638028e-10\n",
      "epoach: 984 loss 7.370289378805239e-10\n",
      "epoach: 985 loss 6.655227480223402e-10\n",
      "epoach: 986 loss 5.965578031563723e-10\n",
      "epoach: 987 loss 4.328370439843354e-10\n",
      "epoach: 988 loss 6.732960855515557e-10\n"
     ]
    },
    {
     "name": "stderr",
     "output_type": "stream",
     "text": [
      "100%|██████████████████████████████████████████████████████████████████████████████████████████████████████████████████████████| 1000/1000 [00:09<00:00, 101.50it/s]"
     ]
    },
    {
     "name": "stdout",
     "output_type": "stream",
     "text": [
      "epoach: 989 loss 7.420396519464134e-10\n",
      "epoach: 990 loss 5.428262284112861e-10\n",
      "epoach: 991 loss 3.9534170381827494e-10\n",
      "epoach: 992 loss 5.706340400202237e-10\n",
      "epoach: 993 loss 6.298890298239712e-10\n",
      "epoach: 994 loss 6.168548449814182e-10\n",
      "epoach: 995 loss 6.692403298202976e-10\n",
      "epoach: 996 loss 7.197712426076919e-10\n",
      "epoach: 997 loss 6.554629061739092e-10\n",
      "epoach: 998 loss 7.830650017304208e-10\n",
      "epoach: 999 loss 6.912103112099999e-10\n"
     ]
    },
    {
     "name": "stderr",
     "output_type": "stream",
     "text": [
      "\n"
     ]
    }
   ],
   "source": [
    "epochs = 1000\n",
    "for epoch in trange(epochs):\n",
    "    for train_data,train_labels in data_iter:\n",
    "        out = net(train_data)\n",
    "        l = loss(out,train_labels)\n",
    "        optimizer.zero_grad() #optimizer中参数梯度清零\n",
    "        l.backward()   #反向求导\n",
    "        optimizer.step() #参数迭代更新\n",
    "    print(\"epoach:\",epoch,\"loss\",l.item())"
   ]
  },
  {
   "cell_type": "code",
   "execution_count": 37,
   "metadata": {
    "collapsed": false
   },
   "outputs": [
    {
     "name": "stdout",
     "output_type": "stream",
     "text": [
      "Parameter containing:\n",
      "tensor([[ 3.4000, -7.2000]], requires_grad=True)\n",
      "Parameter containing:\n",
      "tensor([3.8000], requires_grad=True)\n"
     ]
    }
   ],
   "source": [
    "for param in net[0].parameters():\n",
    "    print(param)"
   ]
  }
 ],
 "metadata": {
  "kernelspec": {
   "display_name": "pytorch",
   "language": "python",
   "name": "pytorch"
  },
  "language_info": {
   "codemirror_mode": {
    "name": "ipython",
    "version": 3
   },
   "file_extension": ".py",
   "mimetype": "text/x-python",
   "name": "python",
   "nbconvert_exporter": "python",
   "pygments_lexer": "ipython3",
   "version": "3.6.13"
  }
 },
 "nbformat": 4,
 "nbformat_minor": 2
}
